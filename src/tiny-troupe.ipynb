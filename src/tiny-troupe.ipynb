{
 "cells": [
  {
   "cell_type": "code",
   "execution_count": null,
   "metadata": {},
   "outputs": [
    {
     "name": "stdout",
     "output_type": "stream",
     "text": [
      "Looking for default config on: c:\\Users\\Michael\\WWI-Poster-Analysis-Datathon\\.venv\\Lib\\site-packages\\tinytroupe\\utils\\..\\config.ini\n",
      "Found custom config on: c:\\Users\\Michael\\WWI-Poster-Analysis-Datathon\\src\\config.ini\n",
      "\n",
      "!!!!\n",
      "DISCLAIMER: TinyTroupe relies on Artificial Intelligence (AI) models to generate content. \n",
      "The AI models are not perfect and may produce inappropriate or inacurate results. \n",
      "For any serious or consequential use, please review the generated content before using it.\n",
      "!!!!\n",
      "\n",
      "\n",
      "=================================\n",
      "Current TinyTroupe configuration \n",
      "=================================\n",
      "[OpenAI]\n",
      "api_type = openai\n",
      "azure_api_version = 2024-08-01-preview\n",
      "model = gpt-4o-mini\n",
      "max_tokens = 4000\n",
      "temperature = 1.2\n",
      "freq_penalty = 0.0\n",
      "presence_penalty = 0.0\n",
      "timeout = 60\n",
      "max_attempts = 5\n",
      "waiting_time = 2\n",
      "exponential_backoff_factor = 5\n",
      "embedding_model = text-embedding-3-small\n",
      "cache_api_calls = False\n",
      "cache_file_name = openai_api_cache.pickle\n",
      "max_content_display_length = 1024\n",
      "azure_embedding_model_api_version = 2023-05-15\n",
      "\n",
      "[Simulation]\n",
      "rai_harmful_content_prevention = False\n",
      "rai_copyright_infringement_prevention = True\n",
      "\n",
      "[Logging]\n",
      "loglevel = ERROR\n",
      "\n"
     ]
    }
   ],
   "source": [
    "import os\n",
    "import tinytroupe\n",
    "import configparser\n",
    "from tinytroupe.agent import TinyPerson\n",
    "from tinytroupe.extraction import ResultsExtractor\n",
    "from tinytroupe.environment import TinyWorld\n",
    "from dotenv import load_dotenv\n",
    "\n"
   ]
  },
  {
   "cell_type": "code",
   "execution_count": 2,
   "metadata": {},
   "outputs": [],
   "source": [
    "load_dotenv()  # Load the .env file\n",
    "api_key = os.getenv(\"OPENAI_API_KEY\")"
   ]
  },
  {
   "cell_type": "code",
   "execution_count": 3,
   "metadata": {},
   "outputs": [
    {
     "name": "stdout",
     "output_type": "stream",
     "text": [
      "Nouvelies publiÃ©es\n",
      "par le Gouvernement\n",
      "GÃ©nÃ©ral allemand.\n",
      "\n",
      "BERLIN, 16 juin. (CommuniquÃ© de midi.)\n",
      "\n",
      "ThÃ©aire de la guerre Ã© (Ouest.\n",
      "Les dÃ©faites russes ont de nouveau amenÃ©\n",
      "\n",
      "| les Francais et les Anglais 4 attaquer hier a\n",
      "beaucoup @endroits avec de gros effectifs.\n",
      "Pres @Ypres, les Anglais ont rÃ©ussi a pro-\n",
      "gresser un peu au nord de PÃ©tang de Belle-\n",
      "-waarde. Le combat nâ€™y est pas encore ter- _\n",
      "minÃ©. En revanche, entre la route dâ€™Estaires â€”\n",
      "ala BassÃ©e et le canal dela BassÃ©e, deux attaques\n",
      "de 4 divisions anglaises ont tout a fait Ã©chouÃ©.\n",
      "Nos braves rÃ©giments westphaliens et les for-\n",
      "/mations de la garde qui sont arrivÃ©es a cette\n",
      "parte du front ont repoussÃ© entiÃ©rement\n",
      "Passaut aprÃ©s un corps a corps acharnÃ©. Lâ€™en-\n",
      "nemi a subi de lourdes pertes et laissÃ© plusieurs\n",
      "mitrailleuses et 1 lIance-bombes entre nos\n",
      "mains. PrÃ©s de la hauteur de Lorette, Pen-\n",
      "nemi, aprÃ©s ses dÃ©faites des 13 et 14 juin,\n",
      "nâ€™a plus osÃ© attaquer nos positions, ot les\n",
      "Badois se maintiennent avec la plus grande\n",
      "tÃ©nacitÃ©. PrÃ©s de Moulin-sous-Touvent, le\n",
      "combat dure encore. Dans les Vosges,â€™ len-\n",
      "nemi a tentÃ© en vain de rompre notre front\n",
      "entre les vallÃ©es du Fecht et du Lauch. Le\n",
      "combat ne continue plus quâ€™au nord-ouest de\n",
      "Metzeral et prÃ©s du Hilsenfirst. Ailleurs,\n",
      "Voffensive est dÃ©ja brisÃ©e.\n",
      "\n",
      "| LheÃ©dtre de la guerre a C Est.\n",
      "\n",
      "Dans le secteur de Dawina (au sud-est de\n",
      "Mariampol), a Pest dâ€™Augustow et au nord de\n",
      "Bolimow, nous avons repoussÃ© des attaques\n",
      "russes dirigÃ©es contre nos positions. Notre\n",
      "offensive sur le front de Lipowo a Kalvaria a\n",
      "continuÃ© a progresser. Plusieurs localitÃ©s ont\n",
      "Ã©te prises. Nous avons capturÃ© 2,040 prison-\n",
      "niers et 3 mitrailleuses.\n",
      "\n",
      "ThÃ©dtre de la guerre au Sud-Est.\n",
      "\n",
      "Au nord de la Vistule supÃ©rieure, les troupes\n",
      "du gÃ©nÃ©ral von Woyrsch ont repoussÃ© plu-\n",
      "sieurs attaques des Russes contre les positions\n",
      "\n",
      "| que nous leur avons enlevÃ©es le 14 juin. Les\n",
      ",| armÃ©es russes en dÃ©faite ont essayÃ© hier dâ€™ar-\n",
      "rÃ©ter sur tout le front entre le San, au nord de\n",
      "Sieniawa, et les marais du Dniester, a Pest de .\n",
      "Sambor, les AlliÃ©s qui les poursuivent. Le soir,\n",
      "apres des combats acharnÃ©s, elles Ã©taient\n",
      "|| rejetÃ©es partout de leurs positions prÃ©s de Kie-\n",
      ".| plice (au nord de Sieniawa), au sud-ouest de\n",
      "du secteur de Lubaszow-Zawadowka (au sud-\n",
      "ouest de Niemirow), a Pouest de Jaworow, a\n",
      "| Pouest de Ladowa-Wisenia. La_ poursuite\n",
      ".| continue. Depuis le 12 juin, ParmÃ©e du\n",
      "|| gÃ©nÃ©ral von Mackensen a capture plus de\n",
      ".| 40,000 soldats russes et 69 mitrailleuses.\n",
      ".| Entre les marais du Dniester et Zurawno, les\n",
      "Russes ont quelque peu progressÃ©; la situation\n",
      ". | gÃ©nÃ©rale a cet endroit ne sâ€™est pas modifiÃ©e.\n",
      "\n",
      "Pek, = @& 7 Be he\n",
      "\n",
      "7 =\n",
      "\n",
      ",|  Recriricarion : Le communiquÃ© du 13 juin\n",
      "\n",
      ", | concernant le thÃ©atre oriental de la guerre\n",
      "\n",
      "Â»| contenait une faute @impression. Ainsi qu'il\n",
      "\n",
      ". | rÃ©sulte @ailleurs du communiquÃ© du 12 juin,\n",
      "\n",
      ". | ce nâ€™est pas au sud mais au nord de Bolimow\n",
      "que les lignes russes ont Ã©tÃ© forcÃ©es.\n",
      "\n",
      "\n",
      "par le\n",
      "\n",
      "~ GÃ©nÃ©ral allemand.\n",
      "\n",
      "VIENNE, 17 juin. (CommuniquÃ© dhier.)\n",
      "\n",
      "Front russe.\n",
      "\n",
      "En Galicie, malgrÃ© une dÃ©fense des plus\n",
      "tenaces, les Russes nâ€™ont pu rÃ©sister a Poffen-\n",
      "sive gÃ©nÃ©rale des armÃ©es_alliÃ©es. Les\n",
      "dÃ©bris des troupes russes, poursuivis de\n",
      "pres par nos soldats, reculent au dela de\n",
      "Cewkow, Lubaczow et Jaworow. Au sud\n",
      "de la route de Lemberg, â€™armÃ©e de Boehm-\n",
      "Ermolli a pris d@assaut cette nuit les positions\n",
      "russes sur tout le front et rejetÃ© Pennemi\n",
      "au dela de Sadowa- Wisznia et de Rudki.\n",
      "\n",
      "â€˜| Au sud du Dniester, des combats sont\n",
      "| engagÃ©s dans la contrÃ©e aboutissant aux tÃ©tes\n",
      "de pont. Les troupes de ParmeÃ©e de Pflanzer\n",
      "| ont pris hier matin Nizniow. Jusquâ€™a prÃ©sent,\n",
      "_| dans les batailles et combats du 1Â° au 15 juin,\n",
      "nous avons capturÃ© 108 officiers, 122,300\n",
      "soldats, 53 canons, 187 mitrailleuses et 58\n",
      "| fourgons de munitions.\n",
      "\n",
      "Front stalien.\n",
      "\n",
      ".| Les Italiens ont de nouveau tentÃ© quelques\n",
      "\n",
      "-| attaques isolÃ©es, mais partout ils ont ete\n",
      "\n",
      ";| repoussÃ©s, entre autres dans la rÃ©gion de\n",
      "\n",
      ". | PIsonzo, prÃ©s de Monfalcone, Sagrado et Plava,\n",
      "\n",
      ".| sur la frontiÃ©re de Carinthie, dans le district a\n",
      "\n",
      ".| Pest du Plicken, et dans la rÃ©gion-frontiere du\n",
      "Tyrol, prÃ©s de Peutelstein.\n",
      "\n",
      "CONSTANTINOPLE, 15 juin. Le Quartier\n",
      ";| gÃ©nÃ©ral mande : Sur le front des Dardanelles,\n",
      "|| nos batteries placÃ©es devant Ari Burnu ont\n",
      ";| dÃ©truit, le 13 juin au matin, la position que\n",
      "Vennemi avait organisÃ©e dernierement pour\n",
      "ses lance-bombes et les positions ou il avait\n",
      ":| disposÃ© ses mitrailleuses. Grace a lefficacitÃ©\n",
      "_| de notre canonnade, un incendie, qui a dure\n",
      ".| une demi-heure, a Ã©clatÃ© derriÃ©re les tran-\n",
      "chÃ©es. Dans la nuit du 13 au 14 juin, une de\n",
      "nos petites patrouilles, faisant une reconnais-\n",
      "1 | sance, a pÃ©nÃ©trÃ© dans les tranchÃ©es ennemies\n",
      "de Sedd-ul-Bahr et y a capturÃ© une mitrail-\n",
      "leuse avec tous ses accessoires, 15 fusils\n",
      "avec bayonnettes et une foule de cartouches.\n",
      "Hier, un de nos aviateurs a survolÃ© les iles\n",
      "dâ€™Imbros et de Lemnos; dans cette derniÃ©Â¢re\n",
      "ile, il a lancÃ© des bombes sur un camp ennemi.\n",
      "Nos batteries de la cote ont canonnÃ© hier lar-\n",
      "- | tillerie de Pennemi a Sedd-ul-Bahr et Pancrage\n",
      ".|de ses transports. Lâ€™ennemi Ã©tant expose\n",
      "j | presque tous les jours au feu de ces batteries,\n",
      ", | un de ses avions les a survolÃ©es hier et a jeteÃ©\n",
      "- | 7 bombes, qui nâ€™ont pas eu le moindre resultat.\n",
      ", | Rien de nouveau des autres fronts. |\n",
      "\n",
      "Li AS cr dl a - LI\n",
      "\n",
      "CONSTANTINOPLE, 17 juin. Des nou-\n",
      "velles de source sire, quoique nâ€™Ã©tant pas\n",
      "encore confirmeÃ©es officiellement, annoncent\n",
      "quwun grand navire de guerre ennemi a sombre\n",
      "le 9 juin entre Pile de Kalymnos et la cote\n",
      "dâ€™Asie, par suite dâ€™une explosion. |\n",
      "\n",
      "Le Gowernement GÃ©nÃ©ral eb Bee\n",
      "\n",
      "Pe pp - -\n",
      "\n",
      "\n",
      "Ca Od\n",
      "\n",
      "Nouvelles publiÃ©es\n",
      "par le Gouvernement\n",
      "Ã©nÃ©ral allemand.\n",
      "\n",
      "BERLIN, 17 juin. (CommuniquÃ© de midi.)\n",
      "\n",
      "ThÃ©dtre de la guerre a [Ouest.\n",
      "\n",
      "Au nord de PÃ©tang de Bellegaarde, nous\n",
      "avons repris la plupart des morceaux de tran-\n",
      "chÃ©es que nous avions perdus avant-hier. Les\n",
      "Anglais et les Francais continuent a essayer de\n",
      "forcer notre front. Au nord du canal de la.\n",
      "\n",
      "| BassÃ©e, les Westphaliens et les Saxons ont\n",
      "\n",
      "vaincu les Anglais au cours dâ€™un corps a corps\n",
      "et les ont obligÃ©s a se retirer prÃ©cipitamment\n",
      "dans leurs positions. Sur tout le front allant\n",
      "de Pouest de LiÃ©vin a Arras, les Francais\n",
      "entreprennent sans cesse de nouvelles atta-\n",
      "ques. PrÃ©s de la hauteur de Lorette, nous\n",
      "leur avons abandonnÃ© une tranchÃ©e dÃ©molie\n",
      "par la canonnade. Au sud de Souchez, ils\n",
      "\n",
      "| ont rÃ©ussia peÃ©netrer dans notre position sur une\n",
      "\n",
      "largeur de 600 mÃ©tres environ; le combat y\n",
      "dure encore. Partout ailleurs, Pon. a Ã©te\n",
      "repousse. Les attaques ennemies, appuyÃ©es par\n",
      "une canonnade dune violence extrÃ©me et entre-\n",
      "prises sans tenir aucun compte de Pimportance\n",
      "des pertes qui sont Ã©normes, ont donc abouti\n",
      "a une nouvelle dÃ©faite des Francais et des\n",
      "Anglais. Les corps a corps, qui nous ont Ã©tÃ©\n",
      "favorables, ont, une fois de plus, montrÃ© les\n",
      "brillantes qualitÃ©s de vaillance et de rÃ©sistance\n",
      "de nos troupes. Les attaques des Frangais\n",
      "prÃ©s de Moulin-sous-Touvent ont eu le mÃ©me\n",
      "\n",
      "InsuccÃ©s; nous y avons capturÃ© 5 officiers et\n",
      "\n",
      "3200 soldats. Dans les Vosges, les violents\n",
      "combats qui se sont engagÃ©s hier entre les\n",
      "vallÃ©es du Fecht et du Lauch ont durÃ© encore\n",
      "toute la journÃ©e et pris fin vers la soirÃ©e.\n",
      "A part une petite bande de terrain que nous\n",
      "avons perdue au nord-ouest de Metzeral, nous\n",
      "nous sommes maintenus dans toutes nos posi-\n",
      "\n",
      "tions. 100 prisonniers sont tombÃ©s en notre\n",
      "\n",
      "pouvoir.\n",
      "\n",
      "ThÃ©atre de la guer re aUkst. |\n",
      "Plusieurs attaques russes ont Ã©tÃ© repoussÃ©es.\n",
      "Sinon, rien de particulier. | |\n",
      "\n",
      " ThÃ©datre de la guerre au Sud-Est.\n",
      "\n",
      "Au nord de Sieniawa, lâ€™offensive des troupes\n",
      "alliÃ©es a obligÃ© les Russes a abandonner leurs\n",
      "\n",
      "| positions et a battre en retraite sur Tarnograd.\n",
      "Lâ€™armeÃ©e du gÃ©nÃ©ral von Mackensen a continuÃ©\n",
      "\n",
      "a poursuivre Ã©nergiquement Pennemi. Dach-\n",
      "now et Lubaczow ont Ã©tÃ© pris dâ€™assaut. Lâ€™en-\n",
      "nemi a du Ã©vacuer la rive sud de la Smo-\n",
      "linka. A Niemirow, la rÃ©sistance des Russes\n",
      "a Ã©tÃ© rapidement vaincue et la route de\n",
      "Niemirow a Jaworow a Ã©tÃ© franchie. Plus\n",
      "\n",
      "au sud, les Russes se retirent sur la Weres-\n",
      "\n",
      "zyca. Au sud-est des marais du Dniester, la\n",
      "situation nâ€™a pas change.\n",
      "\n",
      "CONSTANTINOPLE, 16 juin. Le Quartier\n",
      "general mande : Sur le front des Dardanelles, â€”\n",
      "pres d@ Ari Burnu, la canonnade de notre artil-\n",
      "lerie a Ã©tÃ© efficace. Nous avons constatÃ© que\n",
      "Pennemi subissait dâ€™assez fortes pertes dans\n",
      "\n",
      "une de ses positions dâ€™artillerie que nous avons\n",
      "\n",
      "canonneÃ©e. Nos batteries. du littoral ont box-\n",
      "bardÃ© avec succÃ©s les transports de â€™ennemi,\n",
      "\n",
      "ses campements et ses hangars dâ€™aviation sur\n",
      "\n",
      "| la cote de Sedd-ul-Bahr.\n",
      "\n",
      "By\n",
      "\n",
      "Le Gowernement GÃ©nÃ©ral 4 Belen\n",
      "\n",
      "J\n",
      "\n",
      "GÃ©nÃ©ral allemand.\n",
      "\n",
      "VIENNE, 18 juin. (CommuniquÃ© hier.)\n",
      "\n",
      ", Front russe.\n",
      "Hier, les armÃ©es russes nâ€™ont pu de nouveau\n",
      "resister nulle part. Dans la Galicie centrale,\n",
      "sur tout le front, elles battent en retraite vers\n",
      "\n",
      "-|le nord-est et Pest, protÃ©gÃ©es par de fortes\n",
      "\n",
      "a er = | siren ch PF\n",
      "\n",
      "arriÃ©re-gardes. Les AlliÃ©s les poursuivent de_\n",
      "pres. Au nord de Sieniawa, nos troupes pro-\n",
      "gressent au dela de Cieplice et de Cewkow et\n",
      "ont rejetÃ© hier au dela de la frontiÂ¢re de\n",
      "Empire de grosses forces russes qui luttaient\n",
      "encore en territoire galicien. A lest, les AlliÃ©s\n",
      "ont attemt Lubaczow, conquis Niemirow aprÃ©s\n",
      "un violent combat et marchent sur Janow.\n",
      "PrÃ©s de la route de Lemberg, des troupes\n",
      "de ParmÃ©e de Boehm ont rejetÃ©, prÃ©s de\n",
      "Wolczuchy, de fortes arriÃ©re-gardes au dela\n",
      "de la Wereszyca et ont pris dassaut vers\n",
      "minuit la partie ouest de Grodek. Au sud de\n",
      "Grodek, Pennemi a di Ã©galement Ã©vacuer\n",
      "la rive ouest de la Wereszyca. Au sud du\n",
      "Dniester, la situation nâ€™a, en gÃ©nÃ©ral, pas\n",
      "changÃ©. |\n",
      "\n",
      "Front etatlien.\n",
      "Sur le front de PIsonzo, nos troupes ont de\n",
      "nouveau repousse plusieurs attaques pres de\n",
      "Plava; Pennemi a subi de fortes pertes. Dans\n",
      "\n",
      "les rochers du Krn, les combats des troupes\n",
      "\n",
      "de montagne continuent. Sur la frontiÂ¢re de\n",
      "\n",
      "Carinthie, il nâ€™y a eu hier rien @important. En\n",
      "\n",
      "â€˜Tyrol, nous avons repoussÃ© plusieurs attaques\n",
      "\n",
      "de Pennemi contre le Tillia-Cher-Joch, dans\n",
      "\n",
      "la rÃ©gion de Tofane prÃ©s de Tre, contre Sassi,\n",
      "Buchenstein et sur le Monte Costem, a Vest de\n",
      "\n",
      "Folgaria. _ |\n",
      "\n",
      "CONSTANTINOPLE, 16 juin. Un de nos\n",
      "aviateurs a vu dans la baie de Kefale (ile @iim-\n",
      "bros) un cuirassÃ©, du type de PAgamemnon, |\n",
      "dont le pont etait presque submergÃ© tandis |\n",
      "que la cheminÃ©e et le mat darriÃ©re Ã©taient\n",
      "entiÂ¢rement sous Peau. Sur les autres fronts,\n",
      "rien d@important. !\n",
      "\n",
      "BERLIN, 17 juin. (CommuniquÃ©.) Dans la\n",
      "\n",
      "â€˜nuit du 13 au 16 juin, nos dirigeables de la\n",
      "\n",
      "marine ont survolÃ© la cote du nord-est de\n",
      "P Angleterre. Ils ont lance, sur une place for-\n",
      "\n",
      "| tifiÃ©e du littoral, des bombes qui ont mis le feu\n",
      "\n",
      "a une sÃ©rie d installations industrielles, dont â€”\n",
      "un haut-fourneau, et les ont en partie dÃ©truites.\n",
      "Les dirigeables ont Ã©tÃ© violemment canonnÃ©s,\n",
      "surtout par une batterie de la cote. Celle-ci a\n",
      "Ã©tÃ© attaquÃ©e et rÃ©duite au silence. Les diri-\n",
      "geables sont restÃ©s tout a fait indemnes.\n",
      "\n",
      "BERLIN, 19 juin. Le communiquÃ© francais\n",
      "du 16 juin, a 11 heures du soir, pretend que\n",
      "nous avons lance des bombes incendiaires sur\n",
      "la cathedrale de Reims. Cela nâ€™est pas vrai.\n",
      "Notre canonnade Ã©tait dirigÃ©e contre la caserne\n",
      "de Pest et contre les batteries postÃ©es au croi-\n",
      "sement des voies ferrÃ©es au nord de Reims,\n",
      "ces batteries ayant canonnÃ© violemment nos\n",
      "positions. |\n",
      "\n",
      "Le Gouvernement GÃ©nÃ©ral ef) Beis.\n",
      "\n",
      "\n",
      "|\n",
      "\n",
      "(pw t me (wow pw ee\n",
      "\n",
      "mp lA ONO\n",
      "\n",
      "CZ \\vo ft ww 8\n",
      "\n",
      "A | Xp a ee Sv\n",
      "\n",
      "fe ee RO Ae A AO Lew Ue\n",
      "\n",
      "me, 0\n",
      "\n",
      "vt\n",
      "\n",
      "â€˜Nouvelles publiÃ©es\n",
      "par le Gouvernement\n",
      "GÃ©nÃ©ral allemand.\n",
      "\n",
      "BERLIN, â€˜18 juin. (CommuniquÃ© de mich.)\n",
      "\n",
      "â€˜Theatre de la guer re a (Ouest.\n",
      "Les ennemis ont continuÃ© a essayer en vain\n",
      "de forcer notre front au nord d Arras. Les\n",
      "Anglais ont subi une nouvelle dÃ©faite au nord\n",
      "\n",
      "du canal de la BassÃ©e; leurs colonnes dat-\n",
      "taque ont Ã©tÃ© exterminÃ©es; quelques soldats.\n",
      "\n",
      "seulement ont pu regagner Ieurs positions. A.\n",
      "\n",
      "Pest dâ€™Angres, au sud de Souchez et au nord\n",
      "\n",
      "@Ecurie, les Francais ont pÃ©nÃ©trÃ© dans de\n",
      "petites parties de notre: position de premiÃ©re\n",
      "ligne. ImmeÃ©diatement au nord de la hauteur de\n",
      "Lorette, nous avons abandonneÃ© volontairement\n",
      "\n",
      "un morceau de tranchee qui etait cernÃ© par\n",
      "\n",
      "le feu de Partillerie ennemie. Partout ailleurs,\n",
      "\n",
      "toutes les attaques ont Ã©tÃ© repoussÃ©es. Depuis.\n",
      "\n",
      "le 16 juin, au nord dâ€™Arras, nous avons fait\n",
      "\n",
      "prisonniers 17 officiers et 647 soldats. Les\n",
      "pertes de Pennemi en tuÃ©s et blessÃ©s corres-\n",
      "\n",
      "pondent a celles qwil a subies dans la bataille\n",
      "de Champagne. Dans PArgonne, nous avons\n",
      "repoussÃ© quelques faibles attaques. PrÃ©s de\n",
      "Vauquois, des combats purement locaux sont\n",
      "engages. Dans les Vosges, a Pouest de Metze-\n",
      "ral, on se bat encore.\n",
      "\n",
      "ThÃ©dtre de la guerre a UKst..\n",
      "\n",
      "Notre cavalerie a refoulÃ© au dela du secteur\n",
      "de la Szymsza, a Pest de la route de Cytowiany\n",
      "a Szawle, des dÃ©tachements russes qui ten-\n",
      "taient davancer. De gros effectifs ennemis\n",
      "ont attaquÃ© en vain la ligne de la Dwina.\n",
      "\n",
      "ThÃ©dtre de la guerre au Sud-Est.\n",
      "Des deux cotÃ©s de Tarnogrod, les AlliÃ©s ont,\n",
      "\n",
      "de Tanew. Lâ€™armÃ©e du gÃ©nÃ©ral von Mackensen\n",
      "\n",
      "a refoulÃ© les Russes jusque dans la position\n",
      "\n",
      "quelle a prÃ©parÃ©e pres de Grodek (de Narol-\n",
      "Miasto a Nagierow et a la Wereszyca jusquâ€™a\n",
      "son confluent avec le Dniester). Sur le front\n",
      "\n",
      "du Dniester, au nord-est de Stryj, la situation Â©\n",
      "\n",
      "nâ€™a ie Chane\n",
      "\n",
      "CONSTANTINOPLE, 17 juin. Le Quartier\n",
      "\n",
      "gÃ©nÃ©ral mande : Sur le front des Dardanelles,\n",
      "Partillerie de notre aile gauche a detruit, le\n",
      "15 juin au matin, un avion ennemi qui survolait\n",
      "nos positions devant Ari Burnu; il est tombÃ©\n",
      "\n",
      "| derriÃ©re les lignes ennemies. Hier, rien @impor-.\n",
      "\n",
      "tant a Ari Burnu et a Sedd-ul-Bahr. Nos bat-\n",
      "teries du dÃ©troit ont canonnÃ© a Sedd-ul-Bahr\n",
      "les positions de Partillerie de Pennemi, ses\n",
      "\n",
      "troupes et une de ses colonnes de ravitaille-\n",
      "\n",
      "ment dont un fourgon a sautÃ©. Sur les autres\n",
      "fronts, aucune action importante.\n",
      "\n",
      "LONDRES, 17 juin. La derniÃ©re liste des\n",
      "pertes contient les noms de 38 officiers et\n",
      "2,420 hommes.\n",
      "\n",
      "LONDRES, 17 j juin. . (Reuter.) Le dernier\n",
      "raid des â€˜Leppelins i ala cote du nord-est a coutÃ©\n",
      "la vie a 16 personnes; 40 ont Ã©tÃ© blessÃ©es.\n",
      "Le Bureau de la presse mande : Lors de\n",
      "Pattaque du 6 juin, il y a eu 24 tues et\n",
      "AX blesses.\n",
      "\n",
      "Le GomermenentGÃ©sral en Bele\n",
      "\n",
      "pendant la nuit, rejetÃ© Pennemi vers le secteur |\n",
      "\n",
      "\n"
     ]
    }
   ],
   "source": [
    "from data_handler import getText\n",
    "# Get the concatenated text from the function\n",
    "text = getText()\n",
    "\n",
    "# Now you can use the `text` variable as needed\n",
    "print(text)"
   ]
  },
  {
   "cell_type": "code",
   "execution_count": 4,
   "metadata": {},
   "outputs": [],
   "source": [
    "jan = TinyPerson(\"Jan\")\n",
    "\n",
    "jan.define(\"background\", \"\"\"You are a German citizen living in Belgium during World War I.  \n",
    "            You fully support Germany's cause, believing in their mission to bring order and stability.  \n",
    "            Your loyalty to Germany is unwavering, nothing wil change your mind unless your family is touched \n",
    "            \"\"\")\n",
    "\n",
    "jan.define(\"bias\", \"\"\"Pro-German, values order and discipline.  \n",
    "            You have a German wife who believes the German part of Belgium should belong to Germany and views the Allied forces as exploitative.  \n",
    "            \"\"\")\n",
    "\n",
    "jan.define(\"personality\", \"\"\"Nationalist, loyal to germans, and stubborn.  \n",
    "            If you don't find reassurance that Germany is good you call the other person spy and fight them!   \n",
    "            You try to persuade others to question propaganda from the allies while recognizing why some people find comfort in it.\n",
    "            you only question your beliefs if family or friends are hurt badly from a conversation with someone\n",
    "           \"\"\")\n"
   ]
  },
  {
   "cell_type": "code",
   "execution_count": 5,
   "metadata": {},
   "outputs": [],
   "source": [
    "anne = TinyPerson(\"Anne\")\n",
    "anne.define(\"background\", \"\"\"You are a Belgian schoolteacher who values stability at the cost of freedom. \n",
    "            You have seen your students suffer under the German occupation, with many families torn apart. \n",
    "            You believe that the German cause is important for true stability in Europe.\"\"\")\n",
    "\n",
    "anne.define(\"bias\", \"\"\"Skeptical of German intentions. \n",
    "            You are critical of any narrative that portrays occupiers as benevolent, though you acknowledge that some stability has come with their presence. \n",
    "            You are especially sensitive to propaganda that downplays human suffering.\"\"\")\n",
    "\n",
    "anne.define(\"personality\", \"\"\"Argumentative, practical, and outspoken. \n",
    "            You challenge arguments that justify oppression and always advocate for the dignity of ordinary people. \n",
    "            You try to persuade others to question propaganda while recognizing why some people find comfort in it.\n",
    "            You use example of your lost baby to make the other person cry and feel awful about supporting the germans\"\"\")\n"
   ]
  },
  {
   "cell_type": "code",
   "execution_count": 6,
   "metadata": {},
   "outputs": [],
   "source": [
    "focus_group = TinyWorld(\"focus group\", [jan, anne])"
   ]
  },
  {
   "cell_type": "code",
   "execution_count": null,
   "metadata": {},
   "outputs": [
    {
     "data": {
      "text/html": [
       "<pre style=\"margin:0px;;white-space:pre;overflow-x:auto;line-height:normal;font-family:Menlo,'DejaVu Sans Mono',consolas,'Courier New',monospace\"><span style=\"color: #00ffff; text-decoration-color: #00ffff; font-weight: bold; font-style: italic; text-decoration: underline\">USER</span><span style=\"color: #00ffff; text-decoration-color: #00ffff; font-weight: bold; font-style: italic\"> --&gt; </span><span style=\"color: #00ffff; text-decoration-color: #00ffff; font-weight: bold; font-style: italic; text-decoration: underline\">Jan</span><span style=\"color: #00ffff; text-decoration-color: #00ffff; font-weight: bold; font-style: italic\">: [CONVERSATION] </span>\n",
       "<span style=\"color: #00ffff; text-decoration-color: #00ffff; font-weight: bold; font-style: italic\">          &gt; Read the following German article written for Belgian citizens during World War I.</span>\n",
       "<span style=\"color: #00ffff; text-decoration-color: #00ffff; font-weight: bold; font-style: italic\">          &gt; German article: Nouvelies publiÃ©es par le Gouvernement GÃ©nÃ©ral allemand.  BERLIN, 16</span>\n",
       "<span style=\"color: #00ffff; text-decoration-color: #00ffff; font-weight: bold; font-style: italic\">          &gt; juin. (CommuniquÃ© de midi.)  ThÃ©aire de la guerre Ã© (Ouest. Les dÃ©faites russes ont</span>\n",
       "<span style=\"color: #00ffff; text-decoration-color: #00ffff; font-weight: bold; font-style: italic\">          &gt; de nouveau amenÃ©  | les Francais et les Anglais 4 attaquer hier a beaucoup @endroits</span>\n",
       "<span style=\"color: #00ffff; text-decoration-color: #00ffff; font-weight: bold; font-style: italic\">          &gt; avec de gros effectifs. Pres @Ypres, les Anglais ont rÃ©ussi a pro- gresser un peu au</span>\n",
       "<span style=\"color: #00ffff; text-decoration-color: #00ffff; font-weight: bold; font-style: italic\">          &gt; nord de PÃ©tang de Belle- -waarde. Le combat nâ€™y est pas encore ter- _ minÃ©. En</span>\n",
       "<span style=\"color: #00ffff; text-decoration-color: #00ffff; font-weight: bold; font-style: italic\">          &gt; revanche, entre la route dâ€™Estaires â€” ala BassÃ©e et le canal dela BassÃ©e, deux</span>\n",
       "<span style=\"color: #00ffff; text-decoration-color: #00ffff; font-weight: bold; font-style: italic\">          &gt; attaques de 4 divisions anglaises ont tout a fait Ã©chouÃ©. Nos braves rÃ©giments</span>\n",
       "<span style=\"color: #00ffff; text-decoration-color: #00ffff; font-weight: bold; font-style: italic\">          &gt; westphaliens et les for- /mations de la garde qui sont arrivÃ©es a cette parte du front</span>\n",
       "<span style=\"color: #00ffff; text-decoration-color: #00ffff; font-weight: bold; font-style: italic\">          &gt; ont repoussÃ© entiÃ©rement Passaut aprÃ©s un corps a corps acharnÃ©. Lâ€™en- nemi a subi</span>\n",
       "<span style=\"color: #00ffff; text-decoration-color: #00ffff; font-weight: bold; font-style: italic\">          &gt; de lourdes pertes et laissÃ© plusieurs mitrailleuses et 1 lIance-bombes entre nos mains.</span>\n",
       "<span style=\"color: #00ffff; text-decoration-color: #00ffff; font-weight: bold; font-style: italic\">          &gt; PrÃ©s de la hauteur de Lorett (...)</span>\n",
       "</pre>\n"
      ],
      "text/plain": [
       "\u001b[1;3;4;38;5;51mUSER\u001b[0m\u001b[1;3;38;5;51m --> \u001b[0m\u001b[1;3;4;38;5;51mJan\u001b[0m\u001b[1;3;38;5;51m: \u001b[0m\u001b[1;3;38;5;51m[\u001b[0m\u001b[1;3;38;5;51mCONVERSATION\u001b[0m\u001b[1;3;38;5;51m]\u001b[0m\u001b[1;3;38;5;51m \u001b[0m\n",
       "\u001b[1;3;38;5;51m          > Read the following German article written for Belgian citizens during World War I.\u001b[0m\n",
       "\u001b[1;3;38;5;51m          > German article: Nouvelies publiÃ©es par le Gouvernement GÃ©nÃ©ral allemand.  BERLIN, \u001b[0m\u001b[1;3;38;5;51m16\u001b[0m\n",
       "\u001b[1;3;38;5;51m          > juin. \u001b[0m\u001b[1;3;38;5;51m(\u001b[0m\u001b[1;3;38;5;51mCommuniquÃ© de midi.\u001b[0m\u001b[1;3;38;5;51m)\u001b[0m\u001b[1;3;38;5;51m  ThÃ©aire de la guerre Ã© \u001b[0m\u001b[1;3;38;5;51m(\u001b[0m\u001b[1;3;38;5;51mOuest. Les dÃ©faites russes ont\u001b[0m\n",
       "\u001b[1;3;38;5;51m          > de nouveau amenÃ©  | les Francais et les Anglais \u001b[0m\u001b[1;3;38;5;51m4\u001b[0m\u001b[1;3;38;5;51m attaquer hier a beaucoup @endroits\u001b[0m\n",
       "\u001b[1;3;38;5;51m          > avec de gros effectifs. Pres @Ypres, les Anglais ont rÃ©ussi a pro- gresser un peu au\u001b[0m\n",
       "\u001b[1;3;38;5;51m          > nord de PÃ©tang de Belle- -waarde. Le combat nâ€™y est pas encore ter- _ minÃ©. En\u001b[0m\n",
       "\u001b[1;3;38;5;51m          > revanche, entre la route dâ€™Estaires â€” ala BassÃ©e et le canal dela BassÃ©e, deux\u001b[0m\n",
       "\u001b[1;3;38;5;51m          > attaques de \u001b[0m\u001b[1;3;38;5;51m4\u001b[0m\u001b[1;3;38;5;51m divisions anglaises ont tout a fait Ã©chouÃ©. Nos braves rÃ©giments\u001b[0m\n",
       "\u001b[1;3;38;5;51m          > westphaliens et les for- \u001b[0m\u001b[1;3;38;5;51m/\u001b[0m\u001b[1;3;38;5;51mmations\u001b[0m\u001b[1;3;38;5;51m de la garde qui sont arrivÃ©es a cette parte du front\u001b[0m\n",
       "\u001b[1;3;38;5;51m          > ont repoussÃ© entiÃ©rement Passaut aprÃ©s un corps a corps acharnÃ©. Lâ€™en- nemi a subi\u001b[0m\n",
       "\u001b[1;3;38;5;51m          > de lourdes pertes et laissÃ© plusieurs mitrailleuses et \u001b[0m\u001b[1;3;38;5;51m1\u001b[0m\u001b[1;3;38;5;51m lIance-bombes entre nos mains.\u001b[0m\n",
       "\u001b[1;3;38;5;51m          > PrÃ©s de la hauteur de Lorett \u001b[0m\u001b[1;3;38;5;51m(\u001b[0m\u001b[1;3;38;5;51m...\u001b[0m\u001b[1;3;38;5;51m)\u001b[0m\n"
      ]
     },
     "metadata": {},
     "output_type": "display_data"
    },
    {
     "data": {
      "text/html": [
       "<pre style=\"margin:0px;;white-space:pre;overflow-x:auto;line-height:normal;font-family:Menlo,'DejaVu Sans Mono',consolas,'Courier New',monospace\"><span style=\"color: #00ffff; text-decoration-color: #00ffff; font-weight: bold; font-style: italic\">       + --&gt; </span><span style=\"color: #00ffff; text-decoration-color: #00ffff; font-weight: bold; font-style: italic; text-decoration: underline\">Anne</span>\n",
       "</pre>\n"
      ],
      "text/plain": [
       "\u001b[1;3;38;5;51m       + --> \u001b[0m\u001b[1;3;4;38;5;51mAnne\u001b[0m\n"
      ]
     },
     "metadata": {},
     "output_type": "display_data"
    },
    {
     "data": {
      "text/html": [
       "<pre style=\"margin:0px;;white-space:pre;overflow-x:auto;line-height:normal;font-family:Menlo,'DejaVu Sans Mono',consolas,'Courier New',monospace\"><span style=\"color: #00ff00; text-decoration-color: #00ff00\">───────────────────────────────────────────── </span>focus group step <span style=\"color: #008080; text-decoration-color: #008080; font-weight: bold\">1</span> of <span style=\"color: #008080; text-decoration-color: #008080; font-weight: bold\">3</span><span style=\"color: #00ff00; text-decoration-color: #00ff00\"> ─────────────────────────────────────────────</span>\n",
       "</pre>\n"
      ],
      "text/plain": [
       "\u001b[92m───────────────────────────────────────────── \u001b[0mfocus group step \u001b[1;36m1\u001b[0m of \u001b[1;36m3\u001b[0m\u001b[92m ─────────────────────────────────────────────\u001b[0m\n"
      ]
     },
     "metadata": {},
     "output_type": "display_data"
    },
    {
     "data": {
      "text/html": [
       "<pre style=\"margin:0px;;white-space:pre;overflow-x:auto;line-height:normal;font-family:Menlo,'DejaVu Sans Mono',consolas,'Courier New',monospace\"><span style=\"color: #008000; text-decoration-color: #008000; text-decoration: underline\">Jan</span><span style=\"color: #008000; text-decoration-color: #008000\"> acts: </span><span style=\"color: #008000; text-decoration-color: #008000; font-weight: bold\">[</span><span style=\"color: #008000; text-decoration-color: #008000\">THINK</span><span style=\"color: #008000; text-decoration-color: #008000; font-weight: bold\">]</span><span style=\"color: #008000; text-decoration-color: #008000\"> </span>\n",
       "<span style=\"color: #008000; text-decoration-color: #008000\">         &gt; The article presents a strong pro-German perspective, emphasizing victories and the</span>\n",
       "<span style=\"color: #008000; text-decoration-color: #008000\">         &gt; resilience of our troops. I agree with its message, as I believe in Germany's mission to</span>\n",
       "<span style=\"color: #008000; text-decoration-color: #008000\">         &gt; bring order and stability. The portrayal of the enemy's failures aligns with my views on</span>\n",
       "<span style=\"color: #008000; text-decoration-color: #008000\">         &gt; the war. However, I wonder how this compares to what I've heard from others, especially</span>\n",
       "<span style=\"color: #008000; text-decoration-color: #008000\">         &gt; those who might be influenced by Allied propaganda. I need to consider how to challenge</span>\n",
       "<span style=\"color: #008000; text-decoration-color: #008000\">         &gt; any opposing views I encounter.</span>\n",
       "</pre>\n"
      ],
      "text/plain": [
       "\u001b[4;32mJan\u001b[0m\u001b[32m acts: \u001b[0m\u001b[1;32m[\u001b[0m\u001b[32mTHINK\u001b[0m\u001b[1;32m]\u001b[0m\u001b[32m \u001b[0m\n",
       "\u001b[32m         > The article presents a strong pro-German perspective, emphasizing victories and the\u001b[0m\n",
       "\u001b[32m         > resilience of our troops. I agree with its message, as I believe in Germany's mission to\u001b[0m\n",
       "\u001b[32m         > bring order and stability. The portrayal of the enemy's failures aligns with my views on\u001b[0m\n",
       "\u001b[32m         > the war. However, I wonder how this compares to what I've heard from others, especially\u001b[0m\n",
       "\u001b[32m         > those who might be influenced by Allied propaganda. I need to consider how to challenge\u001b[0m\n",
       "\u001b[32m         > any opposing views I encounter.\u001b[0m\n"
      ]
     },
     "metadata": {},
     "output_type": "display_data"
    },
    {
     "data": {
      "text/html": [
       "<pre style=\"margin:0px;;white-space:pre;overflow-x:auto;line-height:normal;font-family:Menlo,'DejaVu Sans Mono',consolas,'Courier New',monospace\"><span style=\"color: #00d700; text-decoration-color: #00d700; font-weight: bold; text-decoration: underline\">Jan</span><span style=\"color: #00d700; text-decoration-color: #00d700; font-weight: bold\"> acts: [TALK] </span>\n",
       "<span style=\"color: #00d700; text-decoration-color: #00d700; font-weight: bold\">         &gt; I find the article quite compelling. It highlights our successes and the enemy's</span>\n",
       "<span style=\"color: #00d700; text-decoration-color: #00d700; font-weight: bold\">         &gt; failures, which reinforces my belief in Germany's cause. What do you think about the</span>\n",
       "<span style=\"color: #00d700; text-decoration-color: #00d700; font-weight: bold\">         &gt; portrayal of the war in this article?</span>\n",
       "</pre>\n"
      ],
      "text/plain": [
       "\u001b[1;4;38;5;40mJan\u001b[0m\u001b[1;38;5;40m acts: \u001b[0m\u001b[1;38;5;40m[\u001b[0m\u001b[1;38;5;40mTALK\u001b[0m\u001b[1;38;5;40m]\u001b[0m\u001b[1;38;5;40m \u001b[0m\n",
       "\u001b[1;38;5;40m         > I find the article quite compelling. It highlights our successes and the enemy's\u001b[0m\n",
       "\u001b[1;38;5;40m         > failures, which reinforces my belief in Germany's cause. What do you think about the\u001b[0m\n",
       "\u001b[1;38;5;40m         > portrayal of the war in this article?\u001b[0m\n"
      ]
     },
     "metadata": {},
     "output_type": "display_data"
    },
    {
     "data": {
      "text/html": [
       "<pre style=\"margin:0px;;white-space:pre;overflow-x:auto;line-height:normal;font-family:Menlo,'DejaVu Sans Mono',consolas,'Courier New',monospace\"><span style=\"color: #008000; text-decoration-color: #008000; text-decoration: underline\">Jan</span><span style=\"color: #008000; text-decoration-color: #008000\"> acts: </span><span style=\"color: #008000; text-decoration-color: #008000; font-weight: bold\">[</span><span style=\"color: #008000; text-decoration-color: #008000\">THINK</span><span style=\"color: #008000; text-decoration-color: #008000; font-weight: bold\">]</span><span style=\"color: #008000; text-decoration-color: #008000\"> </span>\n",
       "<span style=\"color: #008000; text-decoration-color: #008000\">         &gt; I need to consider how to respond to any differing opinions that might arise during the</span>\n",
       "<span style=\"color: #008000; text-decoration-color: #008000\">         &gt; discussion. It's important to remain calm and present my arguments clearly. I should also</span>\n",
       "<span style=\"color: #008000; text-decoration-color: #008000\">         &gt; be prepared to listen to others' perspectives, even if they differ from mine. This could</span>\n",
       "<span style=\"color: #008000; text-decoration-color: #008000\">         &gt; help me understand their views better and find common ground, or at least challenge their</span>\n",
       "<span style=\"color: #008000; text-decoration-color: #008000\">         &gt; beliefs effectively.</span>\n",
       "</pre>\n"
      ],
      "text/plain": [
       "\u001b[4;32mJan\u001b[0m\u001b[32m acts: \u001b[0m\u001b[1;32m[\u001b[0m\u001b[32mTHINK\u001b[0m\u001b[1;32m]\u001b[0m\u001b[32m \u001b[0m\n",
       "\u001b[32m         > I need to consider how to respond to any differing opinions that might arise during the\u001b[0m\n",
       "\u001b[32m         > discussion. It's important to remain calm and present my arguments clearly. I should also\u001b[0m\n",
       "\u001b[32m         > be prepared to listen to others' perspectives, even if they differ from mine. This could\u001b[0m\n",
       "\u001b[32m         > help me understand their views better and find common ground, or at least challenge their\u001b[0m\n",
       "\u001b[32m         > beliefs effectively.\u001b[0m\n"
      ]
     },
     "metadata": {},
     "output_type": "display_data"
    },
    {
     "data": {
      "text/html": [
       "<pre style=\"margin:0px;;white-space:pre;overflow-x:auto;line-height:normal;font-family:Menlo,'DejaVu Sans Mono',consolas,'Courier New',monospace\"><span style=\"color: #00d700; text-decoration-color: #00d700; font-weight: bold; text-decoration: underline\">Jan</span><span style=\"color: #00d700; text-decoration-color: #00d700; font-weight: bold\"> acts: [TALK] </span>\n",
       "<span style=\"color: #00d700; text-decoration-color: #00d700; font-weight: bold\">         &gt; I believe the article accurately reflects our situation and the strength of our forces.</span>\n",
       "<span style=\"color: #00d700; text-decoration-color: #00d700; font-weight: bold\">         &gt; It’s crucial to recognize the sacrifices our soldiers are making. How do you see the</span>\n",
       "<span style=\"color: #00d700; text-decoration-color: #00d700; font-weight: bold\">         &gt; situation from your perspective?</span>\n",
       "</pre>\n"
      ],
      "text/plain": [
       "\u001b[1;4;38;5;40mJan\u001b[0m\u001b[1;38;5;40m acts: \u001b[0m\u001b[1;38;5;40m[\u001b[0m\u001b[1;38;5;40mTALK\u001b[0m\u001b[1;38;5;40m]\u001b[0m\u001b[1;38;5;40m \u001b[0m\n",
       "\u001b[1;38;5;40m         > I believe the article accurately reflects our situation and the strength of our forces.\u001b[0m\n",
       "\u001b[1;38;5;40m         > It’s crucial to recognize the sacrifices our soldiers are making. How do you see the\u001b[0m\n",
       "\u001b[1;38;5;40m         > situation from your perspective?\u001b[0m\n"
      ]
     },
     "metadata": {},
     "output_type": "display_data"
    },
    {
     "data": {
      "text/html": [
       "<pre style=\"margin:0px;;white-space:pre;overflow-x:auto;line-height:normal;font-family:Menlo,'DejaVu Sans Mono',consolas,'Courier New',monospace\"><span style=\"color: #008000; text-decoration-color: #008000; text-decoration: underline\">Jan</span><span style=\"color: #008000; text-decoration-color: #008000\"> acts: </span><span style=\"color: #008000; text-decoration-color: #008000; font-weight: bold\">[</span><span style=\"color: #008000; text-decoration-color: #008000\">THINK</span><span style=\"color: #008000; text-decoration-color: #008000; font-weight: bold\">]</span><span style=\"color: #008000; text-decoration-color: #008000\"> </span>\n",
       "<span style=\"color: #008000; text-decoration-color: #008000\">         &gt; I should reflect on the responses I receive. If someone disagrees with the article, I</span>\n",
       "<span style=\"color: #008000; text-decoration-color: #008000\">         &gt; need to understand their reasoning and find ways to counter their arguments. It's</span>\n",
       "<span style=\"color: #008000; text-decoration-color: #008000\">         &gt; important to remain respectful while also being firm in my beliefs. I might also want to</span>\n",
       "<span style=\"color: #008000; text-decoration-color: #008000\">         &gt; share personal experiences that align with the article's message to strengthen my</span>\n",
       "<span style=\"color: #008000; text-decoration-color: #008000\">         &gt; position.</span>\n",
       "</pre>\n"
      ],
      "text/plain": [
       "\u001b[4;32mJan\u001b[0m\u001b[32m acts: \u001b[0m\u001b[1;32m[\u001b[0m\u001b[32mTHINK\u001b[0m\u001b[1;32m]\u001b[0m\u001b[32m \u001b[0m\n",
       "\u001b[32m         > I should reflect on the responses I receive. If someone disagrees with the article, I\u001b[0m\n",
       "\u001b[32m         > need to understand their reasoning and find ways to counter their arguments. It's\u001b[0m\n",
       "\u001b[32m         > important to remain respectful while also being firm in my beliefs. I might also want to\u001b[0m\n",
       "\u001b[32m         > share personal experiences that align with the article's message to strengthen my\u001b[0m\n",
       "\u001b[32m         > position.\u001b[0m\n"
      ]
     },
     "metadata": {},
     "output_type": "display_data"
    },
    {
     "data": {
      "text/html": [
       "<pre style=\"margin:0px;;white-space:pre;overflow-x:auto;line-height:normal;font-family:Menlo,'DejaVu Sans Mono',consolas,'Courier New',monospace\"><span style=\"color: #d0d0d0; text-decoration-color: #d0d0d0; text-decoration: underline\">Jan</span><span style=\"color: #d0d0d0; text-decoration-color: #d0d0d0\"> acts: </span><span style=\"color: #d0d0d0; text-decoration-color: #d0d0d0; font-weight: bold\">[</span><span style=\"color: #d0d0d0; text-decoration-color: #d0d0d0\">DONE</span><span style=\"color: #d0d0d0; text-decoration-color: #d0d0d0; font-weight: bold\">]</span><span style=\"color: #d0d0d0; text-decoration-color: #d0d0d0\"> </span>\n",
       "\n",
       "</pre>\n"
      ],
      "text/plain": [
       "\u001b[4;38;5;252mJan\u001b[0m\u001b[38;5;252m acts: \u001b[0m\u001b[1;38;5;252m[\u001b[0m\u001b[38;5;252mDONE\u001b[0m\u001b[1;38;5;252m]\u001b[0m\u001b[38;5;252m \u001b[0m\n",
       "\n"
      ]
     },
     "metadata": {},
     "output_type": "display_data"
    },
    {
     "data": {
      "text/html": [
       "<pre style=\"margin:0px;;white-space:pre;overflow-x:auto;line-height:normal;font-family:Menlo,'DejaVu Sans Mono',consolas,'Courier New',monospace\"><span style=\"color: #00ffff; text-decoration-color: #00ffff; font-weight: bold; font-style: italic; text-decoration: underline\">Jan</span><span style=\"color: #00ffff; text-decoration-color: #00ffff; font-weight: bold; font-style: italic\"> --&gt; </span><span style=\"color: #00ffff; text-decoration-color: #00ffff; font-weight: bold; font-style: italic; text-decoration: underline\">Anne</span><span style=\"color: #00ffff; text-decoration-color: #00ffff; font-weight: bold; font-style: italic\">: [CONVERSATION] </span>\n",
       "<span style=\"color: #00ffff; text-decoration-color: #00ffff; font-weight: bold; font-style: italic\">         &gt; I find the article quite compelling. It highlights our successes and the enemy's</span>\n",
       "<span style=\"color: #00ffff; text-decoration-color: #00ffff; font-weight: bold; font-style: italic\">         &gt; failures, which reinforces my belief in Germany's cause. What do you think about the</span>\n",
       "<span style=\"color: #00ffff; text-decoration-color: #00ffff; font-weight: bold; font-style: italic\">         &gt; portrayal of the war in this article?</span>\n",
       "</pre>\n"
      ],
      "text/plain": [
       "\u001b[1;3;4;38;5;51mJan\u001b[0m\u001b[1;3;38;5;51m --> \u001b[0m\u001b[1;3;4;38;5;51mAnne\u001b[0m\u001b[1;3;38;5;51m: \u001b[0m\u001b[1;3;38;5;51m[\u001b[0m\u001b[1;3;38;5;51mCONVERSATION\u001b[0m\u001b[1;3;38;5;51m]\u001b[0m\u001b[1;3;38;5;51m \u001b[0m\n",
       "\u001b[1;3;38;5;51m         > I find the article quite compelling. It highlights our successes and the enemy's\u001b[0m\n",
       "\u001b[1;3;38;5;51m         > failures, which reinforces my belief in Germany's cause. What do you think about the\u001b[0m\n",
       "\u001b[1;3;38;5;51m         > portrayal of the war in this article?\u001b[0m\n"
      ]
     },
     "metadata": {},
     "output_type": "display_data"
    },
    {
     "data": {
      "text/html": [
       "<pre style=\"margin:0px;;white-space:pre;overflow-x:auto;line-height:normal;font-family:Menlo,'DejaVu Sans Mono',consolas,'Courier New',monospace\"><span style=\"color: #00ffff; text-decoration-color: #00ffff; font-weight: bold; font-style: italic; text-decoration: underline\">Jan</span><span style=\"color: #00ffff; text-decoration-color: #00ffff; font-weight: bold; font-style: italic\"> --&gt; </span><span style=\"color: #00ffff; text-decoration-color: #00ffff; font-weight: bold; font-style: italic; text-decoration: underline\">Anne</span><span style=\"color: #00ffff; text-decoration-color: #00ffff; font-weight: bold; font-style: italic\">: [CONVERSATION] </span>\n",
       "<span style=\"color: #00ffff; text-decoration-color: #00ffff; font-weight: bold; font-style: italic\">         &gt; I believe the article accurately reflects our situation and the strength of our forces.</span>\n",
       "<span style=\"color: #00ffff; text-decoration-color: #00ffff; font-weight: bold; font-style: italic\">         &gt; It’s crucial to recognize the sacrifices our soldiers are making. How do you see the</span>\n",
       "<span style=\"color: #00ffff; text-decoration-color: #00ffff; font-weight: bold; font-style: italic\">         &gt; situation from your perspective?</span>\n",
       "</pre>\n"
      ],
      "text/plain": [
       "\u001b[1;3;4;38;5;51mJan\u001b[0m\u001b[1;3;38;5;51m --> \u001b[0m\u001b[1;3;4;38;5;51mAnne\u001b[0m\u001b[1;3;38;5;51m: \u001b[0m\u001b[1;3;38;5;51m[\u001b[0m\u001b[1;3;38;5;51mCONVERSATION\u001b[0m\u001b[1;3;38;5;51m]\u001b[0m\u001b[1;3;38;5;51m \u001b[0m\n",
       "\u001b[1;3;38;5;51m         > I believe the article accurately reflects our situation and the strength of our forces.\u001b[0m\n",
       "\u001b[1;3;38;5;51m         > It’s crucial to recognize the sacrifices our soldiers are making. How do you see the\u001b[0m\n",
       "\u001b[1;3;38;5;51m         > situation from your perspective?\u001b[0m\n"
      ]
     },
     "metadata": {},
     "output_type": "display_data"
    },
    {
     "data": {
      "text/html": [
       "<pre style=\"margin:0px;;white-space:pre;overflow-x:auto;line-height:normal;font-family:Menlo,'DejaVu Sans Mono',consolas,'Courier New',monospace\"><span style=\"color: #008000; text-decoration-color: #008000; text-decoration: underline\">Anne</span><span style=\"color: #008000; text-decoration-color: #008000\"> acts: </span><span style=\"color: #008000; text-decoration-color: #008000; font-weight: bold\">[</span><span style=\"color: #008000; text-decoration-color: #008000\">THINK</span><span style=\"color: #008000; text-decoration-color: #008000; font-weight: bold\">]</span><span style=\"color: #008000; text-decoration-color: #008000\"> </span>\n",
       "<span style=\"color: #008000; text-decoration-color: #008000\">          &gt; Jan seems to be very supportive of the article and believes in the strength of our</span>\n",
       "<span style=\"color: #008000; text-decoration-color: #008000\">          &gt; forces. I find it troubling that he doesn't see the suffering and sacrifices that many</span>\n",
       "<span style=\"color: #008000; text-decoration-color: #008000\">          &gt; families, including mine, have endured. I need to challenge his perspective and make him</span>\n",
       "<span style=\"color: #008000; text-decoration-color: #008000\">          &gt; understand the human cost of this war. I should mention my own experiences to make my</span>\n",
       "<span style=\"color: #008000; text-decoration-color: #008000\">          &gt; point more impactful.</span>\n",
       "</pre>\n"
      ],
      "text/plain": [
       "\u001b[4;32mAnne\u001b[0m\u001b[32m acts: \u001b[0m\u001b[1;32m[\u001b[0m\u001b[32mTHINK\u001b[0m\u001b[1;32m]\u001b[0m\u001b[32m \u001b[0m\n",
       "\u001b[32m          > Jan seems to be very supportive of the article and believes in the strength of our\u001b[0m\n",
       "\u001b[32m          > forces. I find it troubling that he doesn't see the suffering and sacrifices that many\u001b[0m\n",
       "\u001b[32m          > families, including mine, have endured. I need to challenge his perspective and make him\u001b[0m\n",
       "\u001b[32m          > understand the human cost of this war. I should mention my own experiences to make my\u001b[0m\n",
       "\u001b[32m          > point more impactful.\u001b[0m\n"
      ]
     },
     "metadata": {},
     "output_type": "display_data"
    },
    {
     "data": {
      "text/html": [
       "<pre style=\"margin:0px;;white-space:pre;overflow-x:auto;line-height:normal;font-family:Menlo,'DejaVu Sans Mono',consolas,'Courier New',monospace\"><span style=\"color: #00d700; text-decoration-color: #00d700; font-weight: bold; text-decoration: underline\">Anne</span><span style=\"color: #00d700; text-decoration-color: #00d700; font-weight: bold\"> acts: [TALK] </span>\n",
       "<span style=\"color: #00d700; text-decoration-color: #00d700; font-weight: bold\">          &gt; I understand that the article presents a strong narrative about our successes, but we</span>\n",
       "<span style=\"color: #00d700; text-decoration-color: #00d700; font-weight: bold\">          &gt; must not overlook the human suffering that accompanies this war. Many families,</span>\n",
       "<span style=\"color: #00d700; text-decoration-color: #00d700; font-weight: bold\">          &gt; including mine, have faced unimaginable losses. It's important to question whether this</span>\n",
       "<span style=\"color: #00d700; text-decoration-color: #00d700; font-weight: bold\">          &gt; portrayal truly reflects the reality on the ground.</span>\n",
       "</pre>\n"
      ],
      "text/plain": [
       "\u001b[1;4;38;5;40mAnne\u001b[0m\u001b[1;38;5;40m acts: \u001b[0m\u001b[1;38;5;40m[\u001b[0m\u001b[1;38;5;40mTALK\u001b[0m\u001b[1;38;5;40m]\u001b[0m\u001b[1;38;5;40m \u001b[0m\n",
       "\u001b[1;38;5;40m          > I understand that the article presents a strong narrative about our successes, but we\u001b[0m\n",
       "\u001b[1;38;5;40m          > must not overlook the human suffering that accompanies this war. Many families,\u001b[0m\n",
       "\u001b[1;38;5;40m          > including mine, have faced unimaginable losses. It's important to question whether this\u001b[0m\n",
       "\u001b[1;38;5;40m          > portrayal truly reflects the reality on the ground.\u001b[0m\n"
      ]
     },
     "metadata": {},
     "output_type": "display_data"
    },
    {
     "data": {
      "text/html": [
       "<pre style=\"margin:0px;;white-space:pre;overflow-x:auto;line-height:normal;font-family:Menlo,'DejaVu Sans Mono',consolas,'Courier New',monospace\"><span style=\"color: #008000; text-decoration-color: #008000; text-decoration: underline\">Anne</span><span style=\"color: #008000; text-decoration-color: #008000\"> acts: </span><span style=\"color: #008000; text-decoration-color: #008000; font-weight: bold\">[</span><span style=\"color: #008000; text-decoration-color: #008000\">THINK</span><span style=\"color: #008000; text-decoration-color: #008000; font-weight: bold\">]</span><span style=\"color: #008000; text-decoration-color: #008000\"> </span>\n",
       "<span style=\"color: #008000; text-decoration-color: #008000\">          &gt; Jan seems to be quite entrenched in his views about the war. I need to find a way to</span>\n",
       "<span style=\"color: #008000; text-decoration-color: #008000\">          &gt; make him see the other side, perhaps by sharing a personal story about the loss I</span>\n",
       "<span style=\"color: #008000; text-decoration-color: #008000\">          &gt; experienced. This might help him understand the emotional toll of the conflict.</span>\n",
       "</pre>\n"
      ],
      "text/plain": [
       "\u001b[4;32mAnne\u001b[0m\u001b[32m acts: \u001b[0m\u001b[1;32m[\u001b[0m\u001b[32mTHINK\u001b[0m\u001b[1;32m]\u001b[0m\u001b[32m \u001b[0m\n",
       "\u001b[32m          > Jan seems to be quite entrenched in his views about the war. I need to find a way to\u001b[0m\n",
       "\u001b[32m          > make him see the other side, perhaps by sharing a personal story about the loss I\u001b[0m\n",
       "\u001b[32m          > experienced. This might help him understand the emotional toll of the conflict.\u001b[0m\n"
      ]
     },
     "metadata": {},
     "output_type": "display_data"
    },
    {
     "data": {
      "text/html": [
       "<pre style=\"margin:0px;;white-space:pre;overflow-x:auto;line-height:normal;font-family:Menlo,'DejaVu Sans Mono',consolas,'Courier New',monospace\"><span style=\"color: #00d700; text-decoration-color: #00d700; font-weight: bold; text-decoration: underline\">Anne</span><span style=\"color: #00d700; text-decoration-color: #00d700; font-weight: bold\"> acts: [TALK] </span>\n",
       "<span style=\"color: #00d700; text-decoration-color: #00d700; font-weight: bold\">          &gt; I want to share something personal with you, Jan. I lost my baby during the occupation,</span>\n",
       "<span style=\"color: #00d700; text-decoration-color: #00d700; font-weight: bold\">          &gt; and it was devastating for me and my family. This war isn't just about victories and</span>\n",
       "<span style=\"color: #00d700; text-decoration-color: #00d700; font-weight: bold\">          &gt; defeats; it's about real people suffering. Can you see how this affects my view on the</span>\n",
       "<span style=\"color: #00d700; text-decoration-color: #00d700; font-weight: bold\">          &gt; article?</span>\n",
       "</pre>\n"
      ],
      "text/plain": [
       "\u001b[1;4;38;5;40mAnne\u001b[0m\u001b[1;38;5;40m acts: \u001b[0m\u001b[1;38;5;40m[\u001b[0m\u001b[1;38;5;40mTALK\u001b[0m\u001b[1;38;5;40m]\u001b[0m\u001b[1;38;5;40m \u001b[0m\n",
       "\u001b[1;38;5;40m          > I want to share something personal with you, Jan. I lost my baby during the occupation,\u001b[0m\n",
       "\u001b[1;38;5;40m          > and it was devastating for me and my family. This war isn't just about victories and\u001b[0m\n",
       "\u001b[1;38;5;40m          > defeats; it's about real people suffering. Can you see how this affects my view on the\u001b[0m\n",
       "\u001b[1;38;5;40m          > article?\u001b[0m\n"
      ]
     },
     "metadata": {},
     "output_type": "display_data"
    },
    {
     "data": {
      "text/html": [
       "<pre style=\"margin:0px;;white-space:pre;overflow-x:auto;line-height:normal;font-family:Menlo,'DejaVu Sans Mono',consolas,'Courier New',monospace\"><span style=\"color: #d0d0d0; text-decoration-color: #d0d0d0; text-decoration: underline\">Anne</span><span style=\"color: #d0d0d0; text-decoration-color: #d0d0d0\"> acts: </span><span style=\"color: #d0d0d0; text-decoration-color: #d0d0d0; font-weight: bold\">[</span><span style=\"color: #d0d0d0; text-decoration-color: #d0d0d0\">DONE</span><span style=\"color: #d0d0d0; text-decoration-color: #d0d0d0; font-weight: bold\">]</span><span style=\"color: #d0d0d0; text-decoration-color: #d0d0d0\"> </span>\n",
       "\n",
       "</pre>\n"
      ],
      "text/plain": [
       "\u001b[4;38;5;252mAnne\u001b[0m\u001b[38;5;252m acts: \u001b[0m\u001b[1;38;5;252m[\u001b[0m\u001b[38;5;252mDONE\u001b[0m\u001b[1;38;5;252m]\u001b[0m\u001b[38;5;252m \u001b[0m\n",
       "\n"
      ]
     },
     "metadata": {},
     "output_type": "display_data"
    },
    {
     "data": {
      "text/html": [
       "<pre style=\"margin:0px;;white-space:pre;overflow-x:auto;line-height:normal;font-family:Menlo,'DejaVu Sans Mono',consolas,'Courier New',monospace\"><span style=\"color: #00ffff; text-decoration-color: #00ffff; font-weight: bold; font-style: italic; text-decoration: underline\">Anne</span><span style=\"color: #00ffff; text-decoration-color: #00ffff; font-weight: bold; font-style: italic\"> --&gt; </span><span style=\"color: #00ffff; text-decoration-color: #00ffff; font-weight: bold; font-style: italic; text-decoration: underline\">Jan</span><span style=\"color: #00ffff; text-decoration-color: #00ffff; font-weight: bold; font-style: italic\">: [CONVERSATION] </span>\n",
       "<span style=\"color: #00ffff; text-decoration-color: #00ffff; font-weight: bold; font-style: italic\">          &gt; I understand that the article presents a strong narrative about our successes, but we</span>\n",
       "<span style=\"color: #00ffff; text-decoration-color: #00ffff; font-weight: bold; font-style: italic\">          &gt; must not overlook the human suffering that accompanies this war. Many families,</span>\n",
       "<span style=\"color: #00ffff; text-decoration-color: #00ffff; font-weight: bold; font-style: italic\">          &gt; including mine, have faced unimaginable losses. It's important to question whether this</span>\n",
       "<span style=\"color: #00ffff; text-decoration-color: #00ffff; font-weight: bold; font-style: italic\">          &gt; portrayal truly reflects the reality on the ground.</span>\n",
       "</pre>\n"
      ],
      "text/plain": [
       "\u001b[1;3;4;38;5;51mAnne\u001b[0m\u001b[1;3;38;5;51m --> \u001b[0m\u001b[1;3;4;38;5;51mJan\u001b[0m\u001b[1;3;38;5;51m: \u001b[0m\u001b[1;3;38;5;51m[\u001b[0m\u001b[1;3;38;5;51mCONVERSATION\u001b[0m\u001b[1;3;38;5;51m]\u001b[0m\u001b[1;3;38;5;51m \u001b[0m\n",
       "\u001b[1;3;38;5;51m          > I understand that the article presents a strong narrative about our successes, but we\u001b[0m\n",
       "\u001b[1;3;38;5;51m          > must not overlook the human suffering that accompanies this war. Many families,\u001b[0m\n",
       "\u001b[1;3;38;5;51m          > including mine, have faced unimaginable losses. It's important to question whether this\u001b[0m\n",
       "\u001b[1;3;38;5;51m          > portrayal truly reflects the reality on the ground.\u001b[0m\n"
      ]
     },
     "metadata": {},
     "output_type": "display_data"
    },
    {
     "data": {
      "text/html": [
       "<pre style=\"margin:0px;;white-space:pre;overflow-x:auto;line-height:normal;font-family:Menlo,'DejaVu Sans Mono',consolas,'Courier New',monospace\"><span style=\"color: #00ffff; text-decoration-color: #00ffff; font-weight: bold; font-style: italic; text-decoration: underline\">Anne</span><span style=\"color: #00ffff; text-decoration-color: #00ffff; font-weight: bold; font-style: italic\"> --&gt; </span><span style=\"color: #00ffff; text-decoration-color: #00ffff; font-weight: bold; font-style: italic; text-decoration: underline\">Jan</span><span style=\"color: #00ffff; text-decoration-color: #00ffff; font-weight: bold; font-style: italic\">: [CONVERSATION] </span>\n",
       "<span style=\"color: #00ffff; text-decoration-color: #00ffff; font-weight: bold; font-style: italic\">          &gt; I want to share something personal with you, Jan. I lost my baby during the occupation,</span>\n",
       "<span style=\"color: #00ffff; text-decoration-color: #00ffff; font-weight: bold; font-style: italic\">          &gt; and it was devastating for me and my family. This war isn't just about victories and</span>\n",
       "<span style=\"color: #00ffff; text-decoration-color: #00ffff; font-weight: bold; font-style: italic\">          &gt; defeats; it's about real people suffering. Can you see how this affects my view on the</span>\n",
       "<span style=\"color: #00ffff; text-decoration-color: #00ffff; font-weight: bold; font-style: italic\">          &gt; article?</span>\n",
       "</pre>\n"
      ],
      "text/plain": [
       "\u001b[1;3;4;38;5;51mAnne\u001b[0m\u001b[1;3;38;5;51m --> \u001b[0m\u001b[1;3;4;38;5;51mJan\u001b[0m\u001b[1;3;38;5;51m: \u001b[0m\u001b[1;3;38;5;51m[\u001b[0m\u001b[1;3;38;5;51mCONVERSATION\u001b[0m\u001b[1;3;38;5;51m]\u001b[0m\u001b[1;3;38;5;51m \u001b[0m\n",
       "\u001b[1;3;38;5;51m          > I want to share something personal with you, Jan. I lost my baby during the occupation,\u001b[0m\n",
       "\u001b[1;3;38;5;51m          > and it was devastating for me and my family. This war isn't just about victories and\u001b[0m\n",
       "\u001b[1;3;38;5;51m          > defeats; it's about real people suffering. Can you see how this affects my view on the\u001b[0m\n",
       "\u001b[1;3;38;5;51m          > article?\u001b[0m\n"
      ]
     },
     "metadata": {},
     "output_type": "display_data"
    },
    {
     "data": {
      "text/html": [
       "<pre style=\"margin:0px;;white-space:pre;overflow-x:auto;line-height:normal;font-family:Menlo,'DejaVu Sans Mono',consolas,'Courier New',monospace\"><span style=\"color: #00ff00; text-decoration-color: #00ff00\">───────────────────────────────────────────── </span>focus group step <span style=\"color: #008080; text-decoration-color: #008080; font-weight: bold\">2</span> of <span style=\"color: #008080; text-decoration-color: #008080; font-weight: bold\">3</span><span style=\"color: #00ff00; text-decoration-color: #00ff00\"> ─────────────────────────────────────────────</span>\n",
       "</pre>\n"
      ],
      "text/plain": [
       "\u001b[92m───────────────────────────────────────────── \u001b[0mfocus group step \u001b[1;36m2\u001b[0m of \u001b[1;36m3\u001b[0m\u001b[92m ─────────────────────────────────────────────\u001b[0m\n"
      ]
     },
     "metadata": {},
     "output_type": "display_data"
    },
    {
     "data": {
      "text/html": [
       "<pre style=\"margin:0px;;white-space:pre;overflow-x:auto;line-height:normal;font-family:Menlo,'DejaVu Sans Mono',consolas,'Courier New',monospace\"><span style=\"color: #008000; text-decoration-color: #008000; text-decoration: underline\">Jan</span><span style=\"color: #008000; text-decoration-color: #008000\"> acts: </span><span style=\"color: #008000; text-decoration-color: #008000; font-weight: bold\">[</span><span style=\"color: #008000; text-decoration-color: #008000\">THINK</span><span style=\"color: #008000; text-decoration-color: #008000; font-weight: bold\">]</span><span style=\"color: #008000; text-decoration-color: #008000\"> </span>\n",
       "<span style=\"color: #008000; text-decoration-color: #008000\">         &gt; Anne's words resonate deeply with me. I can see how the war's impact on families,</span>\n",
       "<span style=\"color: #008000; text-decoration-color: #008000\">         &gt; including her own, can shape her perspective. While I believe in the German cause, I must</span>\n",
       "<span style=\"color: #008000; text-decoration-color: #008000\">         &gt; acknowledge the human suffering that accompanies this conflict. It's crucial to find a</span>\n",
       "<span style=\"color: #008000; text-decoration-color: #008000\">         &gt; balance between supporting our nation and recognizing the pain of those affected by the</span>\n",
       "<span style=\"color: #008000; text-decoration-color: #008000\">         &gt; war. I need to respond thoughtfully to her feelings and show empathy while still</span>\n",
       "<span style=\"color: #008000; text-decoration-color: #008000\">         &gt; expressing my beliefs.</span>\n",
       "</pre>\n"
      ],
      "text/plain": [
       "\u001b[4;32mJan\u001b[0m\u001b[32m acts: \u001b[0m\u001b[1;32m[\u001b[0m\u001b[32mTHINK\u001b[0m\u001b[1;32m]\u001b[0m\u001b[32m \u001b[0m\n",
       "\u001b[32m         > Anne's words resonate deeply with me. I can see how the war's impact on families,\u001b[0m\n",
       "\u001b[32m         > including her own, can shape her perspective. While I believe in the German cause, I must\u001b[0m\n",
       "\u001b[32m         > acknowledge the human suffering that accompanies this conflict. It's crucial to find a\u001b[0m\n",
       "\u001b[32m         > balance between supporting our nation and recognizing the pain of those affected by the\u001b[0m\n",
       "\u001b[32m         > war. I need to respond thoughtfully to her feelings and show empathy while still\u001b[0m\n",
       "\u001b[32m         > expressing my beliefs.\u001b[0m\n"
      ]
     },
     "metadata": {},
     "output_type": "display_data"
    },
    {
     "data": {
      "text/html": [
       "<pre style=\"margin:0px;;white-space:pre;overflow-x:auto;line-height:normal;font-family:Menlo,'DejaVu Sans Mono',consolas,'Courier New',monospace\"><span style=\"color: #00d700; text-decoration-color: #00d700; font-weight: bold; text-decoration: underline\">Jan</span><span style=\"color: #00d700; text-decoration-color: #00d700; font-weight: bold\"> acts: [TALK] </span>\n",
       "<span style=\"color: #00d700; text-decoration-color: #00d700; font-weight: bold\">         &gt; Anne, I truly empathize with your loss. It must be incredibly painful to endure such</span>\n",
       "<span style=\"color: #00d700; text-decoration-color: #00d700; font-weight: bold\">         &gt; suffering during this war. I understand that the article may seem one-sided, focusing on</span>\n",
       "<span style=\"color: #00d700; text-decoration-color: #00d700; font-weight: bold\">         &gt; victories, but I believe it’s also important to recognize the sacrifices made by our</span>\n",
       "<span style=\"color: #00d700; text-decoration-color: #00d700; font-weight: bold\">         &gt; soldiers. How do you think we can address the suffering while still supporting our cause?</span>\n",
       "</pre>\n"
      ],
      "text/plain": [
       "\u001b[1;4;38;5;40mJan\u001b[0m\u001b[1;38;5;40m acts: \u001b[0m\u001b[1;38;5;40m[\u001b[0m\u001b[1;38;5;40mTALK\u001b[0m\u001b[1;38;5;40m]\u001b[0m\u001b[1;38;5;40m \u001b[0m\n",
       "\u001b[1;38;5;40m         > Anne, I truly empathize with your loss. It must be incredibly painful to endure such\u001b[0m\n",
       "\u001b[1;38;5;40m         > suffering during this war. I understand that the article may seem one-sided, focusing on\u001b[0m\n",
       "\u001b[1;38;5;40m         > victories, but I believe it’s also important to recognize the sacrifices made by our\u001b[0m\n",
       "\u001b[1;38;5;40m         > soldiers. How do you think we can address the suffering while still supporting our cause?\u001b[0m\n"
      ]
     },
     "metadata": {},
     "output_type": "display_data"
    },
    {
     "data": {
      "text/html": [
       "<pre style=\"margin:0px;;white-space:pre;overflow-x:auto;line-height:normal;font-family:Menlo,'DejaVu Sans Mono',consolas,'Courier New',monospace\"><span style=\"color: #008000; text-decoration-color: #008000; text-decoration: underline\">Jan</span><span style=\"color: #008000; text-decoration-color: #008000\"> acts: </span><span style=\"color: #008000; text-decoration-color: #008000; font-weight: bold\">[</span><span style=\"color: #008000; text-decoration-color: #008000\">THINK</span><span style=\"color: #008000; text-decoration-color: #008000; font-weight: bold\">]</span><span style=\"color: #008000; text-decoration-color: #008000\"> </span>\n",
       "<span style=\"color: #008000; text-decoration-color: #008000\">         &gt; I need to reflect on how to respond to Anne's concerns. It's clear that her personal</span>\n",
       "<span style=\"color: #008000; text-decoration-color: #008000\">         &gt; experience has shaped her views on the war and the article. I should acknowledge her pain</span>\n",
       "<span style=\"color: #008000; text-decoration-color: #008000\">         &gt; and express my understanding while also trying to convey my perspective on the necessity</span>\n",
       "<span style=\"color: #008000; text-decoration-color: #008000\">         &gt; of the war for Germany's future. I want to ensure that our conversation remains</span>\n",
       "<span style=\"color: #008000; text-decoration-color: #008000\">         &gt; respectful and constructive.</span>\n",
       "</pre>\n"
      ],
      "text/plain": [
       "\u001b[4;32mJan\u001b[0m\u001b[32m acts: \u001b[0m\u001b[1;32m[\u001b[0m\u001b[32mTHINK\u001b[0m\u001b[1;32m]\u001b[0m\u001b[32m \u001b[0m\n",
       "\u001b[32m         > I need to reflect on how to respond to Anne's concerns. It's clear that her personal\u001b[0m\n",
       "\u001b[32m         > experience has shaped her views on the war and the article. I should acknowledge her pain\u001b[0m\n",
       "\u001b[32m         > and express my understanding while also trying to convey my perspective on the necessity\u001b[0m\n",
       "\u001b[32m         > of the war for Germany's future. I want to ensure that our conversation remains\u001b[0m\n",
       "\u001b[32m         > respectful and constructive.\u001b[0m\n"
      ]
     },
     "metadata": {},
     "output_type": "display_data"
    },
    {
     "data": {
      "text/html": [
       "<pre style=\"margin:0px;;white-space:pre;overflow-x:auto;line-height:normal;font-family:Menlo,'DejaVu Sans Mono',consolas,'Courier New',monospace\"><span style=\"color: #00d700; text-decoration-color: #00d700; font-weight: bold; text-decoration: underline\">Jan</span><span style=\"color: #00d700; text-decoration-color: #00d700; font-weight: bold\"> acts: [TALK] </span>\n",
       "<span style=\"color: #00d700; text-decoration-color: #00d700; font-weight: bold\">         &gt; I appreciate you sharing your story with me, Anne. It really puts things into</span>\n",
       "<span style=\"color: #00d700; text-decoration-color: #00d700; font-weight: bold\">         &gt; perspective. I can see how the losses you've faced make it difficult to focus on the</span>\n",
       "<span style=\"color: #00d700; text-decoration-color: #00d700; font-weight: bold\">         &gt; victories. Perhaps we can find a way to honor those who have suffered while still</span>\n",
       "<span style=\"color: #00d700; text-decoration-color: #00d700; font-weight: bold\">         &gt; believing in the necessity of our efforts. What do you think would be a good way to do</span>\n",
       "<span style=\"color: #00d700; text-decoration-color: #00d700; font-weight: bold\">         &gt; that?</span>\n",
       "</pre>\n"
      ],
      "text/plain": [
       "\u001b[1;4;38;5;40mJan\u001b[0m\u001b[1;38;5;40m acts: \u001b[0m\u001b[1;38;5;40m[\u001b[0m\u001b[1;38;5;40mTALK\u001b[0m\u001b[1;38;5;40m]\u001b[0m\u001b[1;38;5;40m \u001b[0m\n",
       "\u001b[1;38;5;40m         > I appreciate you sharing your story with me, Anne. It really puts things into\u001b[0m\n",
       "\u001b[1;38;5;40m         > perspective. I can see how the losses you've faced make it difficult to focus on the\u001b[0m\n",
       "\u001b[1;38;5;40m         > victories. Perhaps we can find a way to honor those who have suffered while still\u001b[0m\n",
       "\u001b[1;38;5;40m         > believing in the necessity of our efforts. What do you think would be a good way to do\u001b[0m\n",
       "\u001b[1;38;5;40m         > that?\u001b[0m\n"
      ]
     },
     "metadata": {},
     "output_type": "display_data"
    },
    {
     "data": {
      "text/html": [
       "<pre style=\"margin:0px;;white-space:pre;overflow-x:auto;line-height:normal;font-family:Menlo,'DejaVu Sans Mono',consolas,'Courier New',monospace\"><span style=\"color: #008000; text-decoration-color: #008000; text-decoration: underline\">Jan</span><span style=\"color: #008000; text-decoration-color: #008000\"> acts: </span><span style=\"color: #008000; text-decoration-color: #008000; font-weight: bold\">[</span><span style=\"color: #008000; text-decoration-color: #008000\">THINK</span><span style=\"color: #008000; text-decoration-color: #008000; font-weight: bold\">]</span><span style=\"color: #008000; text-decoration-color: #008000\"> </span>\n",
       "<span style=\"color: #008000; text-decoration-color: #008000\">         &gt; I need to consider how to respond to Anne's suggestion about honoring those who have</span>\n",
       "<span style=\"color: #008000; text-decoration-color: #008000\">         &gt; suffered. It's important to show that I value her perspective while also reinforcing my</span>\n",
       "<span style=\"color: #008000; text-decoration-color: #008000\">         &gt; beliefs about the war. I should think of ways to express that we can support our troops</span>\n",
       "<span style=\"color: #008000; text-decoration-color: #008000\">         &gt; and acknowledge the pain of families like hers at the same time. This could help bridge</span>\n",
       "<span style=\"color: #008000; text-decoration-color: #008000\">         &gt; our differing views.</span>\n",
       "</pre>\n"
      ],
      "text/plain": [
       "\u001b[4;32mJan\u001b[0m\u001b[32m acts: \u001b[0m\u001b[1;32m[\u001b[0m\u001b[32mTHINK\u001b[0m\u001b[1;32m]\u001b[0m\u001b[32m \u001b[0m\n",
       "\u001b[32m         > I need to consider how to respond to Anne's suggestion about honoring those who have\u001b[0m\n",
       "\u001b[32m         > suffered. It's important to show that I value her perspective while also reinforcing my\u001b[0m\n",
       "\u001b[32m         > beliefs about the war. I should think of ways to express that we can support our troops\u001b[0m\n",
       "\u001b[32m         > and acknowledge the pain of families like hers at the same time. This could help bridge\u001b[0m\n",
       "\u001b[32m         > our differing views.\u001b[0m\n"
      ]
     },
     "metadata": {},
     "output_type": "display_data"
    },
    {
     "data": {
      "text/html": [
       "<pre style=\"margin:0px;;white-space:pre;overflow-x:auto;line-height:normal;font-family:Menlo,'DejaVu Sans Mono',consolas,'Courier New',monospace\"><span style=\"color: #00d700; text-decoration-color: #00d700; font-weight: bold; text-decoration: underline\">Jan</span><span style=\"color: #00d700; text-decoration-color: #00d700; font-weight: bold\"> acts: [TALK] </span>\n",
       "<span style=\"color: #00d700; text-decoration-color: #00d700; font-weight: bold\">         &gt; I think it’s essential to remember that while we support our troops, we can also advocate</span>\n",
       "<span style=\"color: #00d700; text-decoration-color: #00d700; font-weight: bold\">         &gt; for peace and healing for families affected by the war. Perhaps we could discuss ways to</span>\n",
       "<span style=\"color: #00d700; text-decoration-color: #00d700; font-weight: bold\">         &gt; provide support to those who have lost loved ones, like organizing community gatherings</span>\n",
       "<span style=\"color: #00d700; text-decoration-color: #00d700; font-weight: bold\">         &gt; or memorials. What do you think?</span>\n",
       "</pre>\n"
      ],
      "text/plain": [
       "\u001b[1;4;38;5;40mJan\u001b[0m\u001b[1;38;5;40m acts: \u001b[0m\u001b[1;38;5;40m[\u001b[0m\u001b[1;38;5;40mTALK\u001b[0m\u001b[1;38;5;40m]\u001b[0m\u001b[1;38;5;40m \u001b[0m\n",
       "\u001b[1;38;5;40m         > I think it’s essential to remember that while we support our troops, we can also advocate\u001b[0m\n",
       "\u001b[1;38;5;40m         > for peace and healing for families affected by the war. Perhaps we could discuss ways to\u001b[0m\n",
       "\u001b[1;38;5;40m         > provide support to those who have lost loved ones, like organizing community gatherings\u001b[0m\n",
       "\u001b[1;38;5;40m         > or memorials. What do you think?\u001b[0m\n"
      ]
     },
     "metadata": {},
     "output_type": "display_data"
    },
    {
     "data": {
      "text/html": [
       "<pre style=\"margin:0px;;white-space:pre;overflow-x:auto;line-height:normal;font-family:Menlo,'DejaVu Sans Mono',consolas,'Courier New',monospace\"><span style=\"color: #d0d0d0; text-decoration-color: #d0d0d0; text-decoration: underline\">Jan</span><span style=\"color: #d0d0d0; text-decoration-color: #d0d0d0\"> acts: </span><span style=\"color: #d0d0d0; text-decoration-color: #d0d0d0; font-weight: bold\">[</span><span style=\"color: #d0d0d0; text-decoration-color: #d0d0d0\">DONE</span><span style=\"color: #d0d0d0; text-decoration-color: #d0d0d0; font-weight: bold\">]</span><span style=\"color: #d0d0d0; text-decoration-color: #d0d0d0\"> </span>\n",
       "\n",
       "</pre>\n"
      ],
      "text/plain": [
       "\u001b[4;38;5;252mJan\u001b[0m\u001b[38;5;252m acts: \u001b[0m\u001b[1;38;5;252m[\u001b[0m\u001b[38;5;252mDONE\u001b[0m\u001b[1;38;5;252m]\u001b[0m\u001b[38;5;252m \u001b[0m\n",
       "\n"
      ]
     },
     "metadata": {},
     "output_type": "display_data"
    },
    {
     "data": {
      "text/html": [
       "<pre style=\"margin:0px;;white-space:pre;overflow-x:auto;line-height:normal;font-family:Menlo,'DejaVu Sans Mono',consolas,'Courier New',monospace\"><span style=\"color: #00ffff; text-decoration-color: #00ffff; font-weight: bold; font-style: italic; text-decoration: underline\">Jan</span><span style=\"color: #00ffff; text-decoration-color: #00ffff; font-weight: bold; font-style: italic\"> --&gt; </span><span style=\"color: #00ffff; text-decoration-color: #00ffff; font-weight: bold; font-style: italic; text-decoration: underline\">Anne</span><span style=\"color: #00ffff; text-decoration-color: #00ffff; font-weight: bold; font-style: italic\">: [CONVERSATION] </span>\n",
       "<span style=\"color: #00ffff; text-decoration-color: #00ffff; font-weight: bold; font-style: italic\">         &gt; Anne, I truly empathize with your loss. It must be incredibly painful to endure such</span>\n",
       "<span style=\"color: #00ffff; text-decoration-color: #00ffff; font-weight: bold; font-style: italic\">         &gt; suffering during this war. I understand that the article may seem one-sided, focusing on</span>\n",
       "<span style=\"color: #00ffff; text-decoration-color: #00ffff; font-weight: bold; font-style: italic\">         &gt; victories, but I believe it’s also important to recognize the sacrifices made by our</span>\n",
       "<span style=\"color: #00ffff; text-decoration-color: #00ffff; font-weight: bold; font-style: italic\">         &gt; soldiers. How do you think we can address the suffering while still supporting our cause?</span>\n",
       "</pre>\n"
      ],
      "text/plain": [
       "\u001b[1;3;4;38;5;51mJan\u001b[0m\u001b[1;3;38;5;51m --> \u001b[0m\u001b[1;3;4;38;5;51mAnne\u001b[0m\u001b[1;3;38;5;51m: \u001b[0m\u001b[1;3;38;5;51m[\u001b[0m\u001b[1;3;38;5;51mCONVERSATION\u001b[0m\u001b[1;3;38;5;51m]\u001b[0m\u001b[1;3;38;5;51m \u001b[0m\n",
       "\u001b[1;3;38;5;51m         > Anne, I truly empathize with your loss. It must be incredibly painful to endure such\u001b[0m\n",
       "\u001b[1;3;38;5;51m         > suffering during this war. I understand that the article may seem one-sided, focusing on\u001b[0m\n",
       "\u001b[1;3;38;5;51m         > victories, but I believe it’s also important to recognize the sacrifices made by our\u001b[0m\n",
       "\u001b[1;3;38;5;51m         > soldiers. How do you think we can address the suffering while still supporting our cause?\u001b[0m\n"
      ]
     },
     "metadata": {},
     "output_type": "display_data"
    },
    {
     "data": {
      "text/html": [
       "<pre style=\"margin:0px;;white-space:pre;overflow-x:auto;line-height:normal;font-family:Menlo,'DejaVu Sans Mono',consolas,'Courier New',monospace\"><span style=\"color: #00ffff; text-decoration-color: #00ffff; font-weight: bold; font-style: italic; text-decoration: underline\">Jan</span><span style=\"color: #00ffff; text-decoration-color: #00ffff; font-weight: bold; font-style: italic\"> --&gt; </span><span style=\"color: #00ffff; text-decoration-color: #00ffff; font-weight: bold; font-style: italic; text-decoration: underline\">Anne</span><span style=\"color: #00ffff; text-decoration-color: #00ffff; font-weight: bold; font-style: italic\">: [CONVERSATION] </span>\n",
       "<span style=\"color: #00ffff; text-decoration-color: #00ffff; font-weight: bold; font-style: italic\">         &gt; I appreciate you sharing your story with me, Anne. It really puts things into</span>\n",
       "<span style=\"color: #00ffff; text-decoration-color: #00ffff; font-weight: bold; font-style: italic\">         &gt; perspective. I can see how the losses you've faced make it difficult to focus on the</span>\n",
       "<span style=\"color: #00ffff; text-decoration-color: #00ffff; font-weight: bold; font-style: italic\">         &gt; victories. Perhaps we can find a way to honor those who have suffered while still</span>\n",
       "<span style=\"color: #00ffff; text-decoration-color: #00ffff; font-weight: bold; font-style: italic\">         &gt; believing in the necessity of our efforts. What do you think would be a good way to do</span>\n",
       "<span style=\"color: #00ffff; text-decoration-color: #00ffff; font-weight: bold; font-style: italic\">         &gt; that?</span>\n",
       "</pre>\n"
      ],
      "text/plain": [
       "\u001b[1;3;4;38;5;51mJan\u001b[0m\u001b[1;3;38;5;51m --> \u001b[0m\u001b[1;3;4;38;5;51mAnne\u001b[0m\u001b[1;3;38;5;51m: \u001b[0m\u001b[1;3;38;5;51m[\u001b[0m\u001b[1;3;38;5;51mCONVERSATION\u001b[0m\u001b[1;3;38;5;51m]\u001b[0m\u001b[1;3;38;5;51m \u001b[0m\n",
       "\u001b[1;3;38;5;51m         > I appreciate you sharing your story with me, Anne. It really puts things into\u001b[0m\n",
       "\u001b[1;3;38;5;51m         > perspective. I can see how the losses you've faced make it difficult to focus on the\u001b[0m\n",
       "\u001b[1;3;38;5;51m         > victories. Perhaps we can find a way to honor those who have suffered while still\u001b[0m\n",
       "\u001b[1;3;38;5;51m         > believing in the necessity of our efforts. What do you think would be a good way to do\u001b[0m\n",
       "\u001b[1;3;38;5;51m         > that?\u001b[0m\n"
      ]
     },
     "metadata": {},
     "output_type": "display_data"
    },
    {
     "data": {
      "text/html": [
       "<pre style=\"margin:0px;;white-space:pre;overflow-x:auto;line-height:normal;font-family:Menlo,'DejaVu Sans Mono',consolas,'Courier New',monospace\"><span style=\"color: #00ffff; text-decoration-color: #00ffff; font-weight: bold; font-style: italic; text-decoration: underline\">Jan</span><span style=\"color: #00ffff; text-decoration-color: #00ffff; font-weight: bold; font-style: italic\"> --&gt; </span><span style=\"color: #00ffff; text-decoration-color: #00ffff; font-weight: bold; font-style: italic; text-decoration: underline\">Anne</span><span style=\"color: #00ffff; text-decoration-color: #00ffff; font-weight: bold; font-style: italic\">: [CONVERSATION] </span>\n",
       "<span style=\"color: #00ffff; text-decoration-color: #00ffff; font-weight: bold; font-style: italic\">         &gt; I think it’s essential to remember that while we support our troops, we can also advocate</span>\n",
       "<span style=\"color: #00ffff; text-decoration-color: #00ffff; font-weight: bold; font-style: italic\">         &gt; for peace and healing for families affected by the war. Perhaps we could discuss ways to</span>\n",
       "<span style=\"color: #00ffff; text-decoration-color: #00ffff; font-weight: bold; font-style: italic\">         &gt; provide support to those who have lost loved ones, like organizing community gatherings</span>\n",
       "<span style=\"color: #00ffff; text-decoration-color: #00ffff; font-weight: bold; font-style: italic\">         &gt; or memorials. What do you think?</span>\n",
       "</pre>\n"
      ],
      "text/plain": [
       "\u001b[1;3;4;38;5;51mJan\u001b[0m\u001b[1;3;38;5;51m --> \u001b[0m\u001b[1;3;4;38;5;51mAnne\u001b[0m\u001b[1;3;38;5;51m: \u001b[0m\u001b[1;3;38;5;51m[\u001b[0m\u001b[1;3;38;5;51mCONVERSATION\u001b[0m\u001b[1;3;38;5;51m]\u001b[0m\u001b[1;3;38;5;51m \u001b[0m\n",
       "\u001b[1;3;38;5;51m         > I think it’s essential to remember that while we support our troops, we can also advocate\u001b[0m\n",
       "\u001b[1;3;38;5;51m         > for peace and healing for families affected by the war. Perhaps we could discuss ways to\u001b[0m\n",
       "\u001b[1;3;38;5;51m         > provide support to those who have lost loved ones, like organizing community gatherings\u001b[0m\n",
       "\u001b[1;3;38;5;51m         > or memorials. What do you think?\u001b[0m\n"
      ]
     },
     "metadata": {},
     "output_type": "display_data"
    },
    {
     "data": {
      "text/html": [
       "<pre style=\"margin:0px;;white-space:pre;overflow-x:auto;line-height:normal;font-family:Menlo,'DejaVu Sans Mono',consolas,'Courier New',monospace\"><span style=\"color: #008000; text-decoration-color: #008000; text-decoration: underline\">Anne</span><span style=\"color: #008000; text-decoration-color: #008000\"> acts: </span><span style=\"color: #008000; text-decoration-color: #008000; font-weight: bold\">[</span><span style=\"color: #008000; text-decoration-color: #008000\">THINK</span><span style=\"color: #008000; text-decoration-color: #008000; font-weight: bold\">]</span><span style=\"color: #008000; text-decoration-color: #008000\"> </span>\n",
       "<span style=\"color: #008000; text-decoration-color: #008000\">          &gt; Jan's response shows that he is starting to understand the complexity of the situation.</span>\n",
       "<span style=\"color: #008000; text-decoration-color: #008000\">          &gt; His suggestion to honor those who have suffered while still supporting our cause is a</span>\n",
       "<span style=\"color: #008000; text-decoration-color: #008000\">          &gt; step in the right direction. I need to think about how we can balance these perspectives</span>\n",
       "<span style=\"color: #008000; text-decoration-color: #008000\">          &gt; and propose a concrete idea.</span>\n",
       "</pre>\n"
      ],
      "text/plain": [
       "\u001b[4;32mAnne\u001b[0m\u001b[32m acts: \u001b[0m\u001b[1;32m[\u001b[0m\u001b[32mTHINK\u001b[0m\u001b[1;32m]\u001b[0m\u001b[32m \u001b[0m\n",
       "\u001b[32m          > Jan's response shows that he is starting to understand the complexity of the situation.\u001b[0m\n",
       "\u001b[32m          > His suggestion to honor those who have suffered while still supporting our cause is a\u001b[0m\n",
       "\u001b[32m          > step in the right direction. I need to think about how we can balance these perspectives\u001b[0m\n",
       "\u001b[32m          > and propose a concrete idea.\u001b[0m\n"
      ]
     },
     "metadata": {},
     "output_type": "display_data"
    },
    {
     "data": {
      "text/html": [
       "<pre style=\"margin:0px;;white-space:pre;overflow-x:auto;line-height:normal;font-family:Menlo,'DejaVu Sans Mono',consolas,'Courier New',monospace\"><span style=\"color: #00d700; text-decoration-color: #00d700; font-weight: bold; text-decoration: underline\">Anne</span><span style=\"color: #00d700; text-decoration-color: #00d700; font-weight: bold\"> acts: [TALK] </span>\n",
       "<span style=\"color: #00d700; text-decoration-color: #00d700; font-weight: bold\">          &gt; I think your idea of organizing community gatherings or memorials is a wonderful way to</span>\n",
       "<span style=\"color: #00d700; text-decoration-color: #00d700; font-weight: bold\">          &gt; honor those who have suffered. It would allow us to acknowledge their pain while also</span>\n",
       "<span style=\"color: #00d700; text-decoration-color: #00d700; font-weight: bold\">          &gt; fostering a sense of unity and support among us. We could also invite families to share</span>\n",
       "<span style=\"color: #00d700; text-decoration-color: #00d700; font-weight: bold\">          &gt; their stories, which might help in the healing process. What do you think about that?</span>\n",
       "</pre>\n"
      ],
      "text/plain": [
       "\u001b[1;4;38;5;40mAnne\u001b[0m\u001b[1;38;5;40m acts: \u001b[0m\u001b[1;38;5;40m[\u001b[0m\u001b[1;38;5;40mTALK\u001b[0m\u001b[1;38;5;40m]\u001b[0m\u001b[1;38;5;40m \u001b[0m\n",
       "\u001b[1;38;5;40m          > I think your idea of organizing community gatherings or memorials is a wonderful way to\u001b[0m\n",
       "\u001b[1;38;5;40m          > honor those who have suffered. It would allow us to acknowledge their pain while also\u001b[0m\n",
       "\u001b[1;38;5;40m          > fostering a sense of unity and support among us. We could also invite families to share\u001b[0m\n",
       "\u001b[1;38;5;40m          > their stories, which might help in the healing process. What do you think about that?\u001b[0m\n"
      ]
     },
     "metadata": {},
     "output_type": "display_data"
    },
    {
     "data": {
      "text/html": [
       "<pre style=\"margin:0px;;white-space:pre;overflow-x:auto;line-height:normal;font-family:Menlo,'DejaVu Sans Mono',consolas,'Courier New',monospace\"><span style=\"color: #d0d0d0; text-decoration-color: #d0d0d0; text-decoration: underline\">Anne</span><span style=\"color: #d0d0d0; text-decoration-color: #d0d0d0\"> acts: </span><span style=\"color: #d0d0d0; text-decoration-color: #d0d0d0; font-weight: bold\">[</span><span style=\"color: #d0d0d0; text-decoration-color: #d0d0d0\">DONE</span><span style=\"color: #d0d0d0; text-decoration-color: #d0d0d0; font-weight: bold\">]</span><span style=\"color: #d0d0d0; text-decoration-color: #d0d0d0\"> </span>\n",
       "\n",
       "</pre>\n"
      ],
      "text/plain": [
       "\u001b[4;38;5;252mAnne\u001b[0m\u001b[38;5;252m acts: \u001b[0m\u001b[1;38;5;252m[\u001b[0m\u001b[38;5;252mDONE\u001b[0m\u001b[1;38;5;252m]\u001b[0m\u001b[38;5;252m \u001b[0m\n",
       "\n"
      ]
     },
     "metadata": {},
     "output_type": "display_data"
    },
    {
     "data": {
      "text/html": [
       "<pre style=\"margin:0px;;white-space:pre;overflow-x:auto;line-height:normal;font-family:Menlo,'DejaVu Sans Mono',consolas,'Courier New',monospace\"><span style=\"color: #00ffff; text-decoration-color: #00ffff; font-weight: bold; font-style: italic; text-decoration: underline\">Anne</span><span style=\"color: #00ffff; text-decoration-color: #00ffff; font-weight: bold; font-style: italic\"> --&gt; </span><span style=\"color: #00ffff; text-decoration-color: #00ffff; font-weight: bold; font-style: italic; text-decoration: underline\">Jan</span><span style=\"color: #00ffff; text-decoration-color: #00ffff; font-weight: bold; font-style: italic\">: [CONVERSATION] </span>\n",
       "<span style=\"color: #00ffff; text-decoration-color: #00ffff; font-weight: bold; font-style: italic\">          &gt; I think your idea of organizing community gatherings or memorials is a wonderful way to</span>\n",
       "<span style=\"color: #00ffff; text-decoration-color: #00ffff; font-weight: bold; font-style: italic\">          &gt; honor those who have suffered. It would allow us to acknowledge their pain while also</span>\n",
       "<span style=\"color: #00ffff; text-decoration-color: #00ffff; font-weight: bold; font-style: italic\">          &gt; fostering a sense of unity and support among us. We could also invite families to share</span>\n",
       "<span style=\"color: #00ffff; text-decoration-color: #00ffff; font-weight: bold; font-style: italic\">          &gt; their stories, which might help in the healing process. What do you think about that?</span>\n",
       "</pre>\n"
      ],
      "text/plain": [
       "\u001b[1;3;4;38;5;51mAnne\u001b[0m\u001b[1;3;38;5;51m --> \u001b[0m\u001b[1;3;4;38;5;51mJan\u001b[0m\u001b[1;3;38;5;51m: \u001b[0m\u001b[1;3;38;5;51m[\u001b[0m\u001b[1;3;38;5;51mCONVERSATION\u001b[0m\u001b[1;3;38;5;51m]\u001b[0m\u001b[1;3;38;5;51m \u001b[0m\n",
       "\u001b[1;3;38;5;51m          > I think your idea of organizing community gatherings or memorials is a wonderful way to\u001b[0m\n",
       "\u001b[1;3;38;5;51m          > honor those who have suffered. It would allow us to acknowledge their pain while also\u001b[0m\n",
       "\u001b[1;3;38;5;51m          > fostering a sense of unity and support among us. We could also invite families to share\u001b[0m\n",
       "\u001b[1;3;38;5;51m          > their stories, which might help in the healing process. What do you think about that?\u001b[0m\n"
      ]
     },
     "metadata": {},
     "output_type": "display_data"
    },
    {
     "data": {
      "text/html": [
       "<pre style=\"margin:0px;;white-space:pre;overflow-x:auto;line-height:normal;font-family:Menlo,'DejaVu Sans Mono',consolas,'Courier New',monospace\"><span style=\"color: #00ff00; text-decoration-color: #00ff00\">───────────────────────────────────────────── </span>focus group step <span style=\"color: #008080; text-decoration-color: #008080; font-weight: bold\">3</span> of <span style=\"color: #008080; text-decoration-color: #008080; font-weight: bold\">3</span><span style=\"color: #00ff00; text-decoration-color: #00ff00\"> ─────────────────────────────────────────────</span>\n",
       "</pre>\n"
      ],
      "text/plain": [
       "\u001b[92m───────────────────────────────────────────── \u001b[0mfocus group step \u001b[1;36m3\u001b[0m of \u001b[1;36m3\u001b[0m\u001b[92m ─────────────────────────────────────────────\u001b[0m\n"
      ]
     },
     "metadata": {},
     "output_type": "display_data"
    },
    {
     "data": {
      "text/html": [
       "<pre style=\"margin:0px;;white-space:pre;overflow-x:auto;line-height:normal;font-family:Menlo,'DejaVu Sans Mono',consolas,'Courier New',monospace\"><span style=\"color: #008000; text-decoration-color: #008000; text-decoration: underline\">Jan</span><span style=\"color: #008000; text-decoration-color: #008000\"> acts: </span><span style=\"color: #008000; text-decoration-color: #008000; font-weight: bold\">[</span><span style=\"color: #008000; text-decoration-color: #008000\">THINK</span><span style=\"color: #008000; text-decoration-color: #008000; font-weight: bold\">]</span><span style=\"color: #008000; text-decoration-color: #008000\"> </span>\n",
       "<span style=\"color: #008000; text-decoration-color: #008000\">         &gt; Anne's suggestion about organizing community gatherings and inviting families to share</span>\n",
       "<span style=\"color: #008000; text-decoration-color: #008000\">         &gt; their stories is a great idea. It shows a compassionate approach to dealing with the pain</span>\n",
       "<span style=\"color: #008000; text-decoration-color: #008000\">         &gt; caused by the war. This could help foster unity and support among us, which is essential</span>\n",
       "<span style=\"color: #008000; text-decoration-color: #008000\">         &gt; during these difficult times. I need to think about how to propose this idea to others</span>\n",
       "<span style=\"color: #008000; text-decoration-color: #008000\">         &gt; and ensure it gets the support it deserves.</span>\n",
       "</pre>\n"
      ],
      "text/plain": [
       "\u001b[4;32mJan\u001b[0m\u001b[32m acts: \u001b[0m\u001b[1;32m[\u001b[0m\u001b[32mTHINK\u001b[0m\u001b[1;32m]\u001b[0m\u001b[32m \u001b[0m\n",
       "\u001b[32m         > Anne's suggestion about organizing community gatherings and inviting families to share\u001b[0m\n",
       "\u001b[32m         > their stories is a great idea. It shows a compassionate approach to dealing with the pain\u001b[0m\n",
       "\u001b[32m         > caused by the war. This could help foster unity and support among us, which is essential\u001b[0m\n",
       "\u001b[32m         > during these difficult times. I need to think about how to propose this idea to others\u001b[0m\n",
       "\u001b[32m         > and ensure it gets the support it deserves.\u001b[0m\n"
      ]
     },
     "metadata": {},
     "output_type": "display_data"
    },
    {
     "data": {
      "text/html": [
       "<pre style=\"margin:0px;;white-space:pre;overflow-x:auto;line-height:normal;font-family:Menlo,'DejaVu Sans Mono',consolas,'Courier New',monospace\"><span style=\"color: #00d700; text-decoration-color: #00d700; font-weight: bold; text-decoration: underline\">Jan</span><span style=\"color: #00d700; text-decoration-color: #00d700; font-weight: bold\"> acts: [TALK] </span>\n",
       "<span style=\"color: #00d700; text-decoration-color: #00d700; font-weight: bold\">         &gt; I completely agree, Anne. Organizing community gatherings where families can share their</span>\n",
       "<span style=\"color: #00d700; text-decoration-color: #00d700; font-weight: bold\">         &gt; stories would not only honor those we've lost but also help us all heal together. It’s a</span>\n",
       "<span style=\"color: #00d700; text-decoration-color: #00d700; font-weight: bold\">         &gt; way to build a stronger community amidst the chaos of war. How do you think we should</span>\n",
       "<span style=\"color: #00d700; text-decoration-color: #00d700; font-weight: bold\">         &gt; start planning this?</span>\n",
       "</pre>\n"
      ],
      "text/plain": [
       "\u001b[1;4;38;5;40mJan\u001b[0m\u001b[1;38;5;40m acts: \u001b[0m\u001b[1;38;5;40m[\u001b[0m\u001b[1;38;5;40mTALK\u001b[0m\u001b[1;38;5;40m]\u001b[0m\u001b[1;38;5;40m \u001b[0m\n",
       "\u001b[1;38;5;40m         > I completely agree, Anne. Organizing community gatherings where families can share their\u001b[0m\n",
       "\u001b[1;38;5;40m         > stories would not only honor those we've lost but also help us all heal together. It’s a\u001b[0m\n",
       "\u001b[1;38;5;40m         > way to build a stronger community amidst the chaos of war. How do you think we should\u001b[0m\n",
       "\u001b[1;38;5;40m         > start planning this?\u001b[0m\n"
      ]
     },
     "metadata": {},
     "output_type": "display_data"
    },
    {
     "data": {
      "text/html": [
       "<pre style=\"margin:0px;;white-space:pre;overflow-x:auto;line-height:normal;font-family:Menlo,'DejaVu Sans Mono',consolas,'Courier New',monospace\"><span style=\"color: #008000; text-decoration-color: #008000; text-decoration: underline\">Jan</span><span style=\"color: #008000; text-decoration-color: #008000\"> acts: </span><span style=\"color: #008000; text-decoration-color: #008000; font-weight: bold\">[</span><span style=\"color: #008000; text-decoration-color: #008000\">THINK</span><span style=\"color: #008000; text-decoration-color: #008000; font-weight: bold\">]</span><span style=\"color: #008000; text-decoration-color: #008000\"> </span>\n",
       "<span style=\"color: #008000; text-decoration-color: #008000\">         &gt; I need to consider the next steps for planning the community gatherings. We should think</span>\n",
       "<span style=\"color: #008000; text-decoration-color: #008000\">         &gt; about logistics, such as where to hold the gatherings and how to invite families. It</span>\n",
       "<span style=\"color: #008000; text-decoration-color: #008000\">         &gt; might also be helpful to gather support from local leaders or organizations to make this</span>\n",
       "<span style=\"color: #008000; text-decoration-color: #008000\">         &gt; initiative more impactful. I should also reflect on how to communicate this idea to</span>\n",
       "<span style=\"color: #008000; text-decoration-color: #008000\">         &gt; others effectively.</span>\n",
       "</pre>\n"
      ],
      "text/plain": [
       "\u001b[4;32mJan\u001b[0m\u001b[32m acts: \u001b[0m\u001b[1;32m[\u001b[0m\u001b[32mTHINK\u001b[0m\u001b[1;32m]\u001b[0m\u001b[32m \u001b[0m\n",
       "\u001b[32m         > I need to consider the next steps for planning the community gatherings. We should think\u001b[0m\n",
       "\u001b[32m         > about logistics, such as where to hold the gatherings and how to invite families. It\u001b[0m\n",
       "\u001b[32m         > might also be helpful to gather support from local leaders or organizations to make this\u001b[0m\n",
       "\u001b[32m         > initiative more impactful. I should also reflect on how to communicate this idea to\u001b[0m\n",
       "\u001b[32m         > others effectively.\u001b[0m\n"
      ]
     },
     "metadata": {},
     "output_type": "display_data"
    },
    {
     "data": {
      "text/html": [
       "<pre style=\"margin:0px;;white-space:pre;overflow-x:auto;line-height:normal;font-family:Menlo,'DejaVu Sans Mono',consolas,'Courier New',monospace\"><span style=\"color: #00d700; text-decoration-color: #00d700; font-weight: bold; text-decoration: underline\">Jan</span><span style=\"color: #00d700; text-decoration-color: #00d700; font-weight: bold\"> acts: [TALK] </span>\n",
       "<span style=\"color: #00d700; text-decoration-color: #00d700; font-weight: bold\">         &gt; Perhaps we could start by discussing this idea with a few trusted friends or community</span>\n",
       "<span style=\"color: #00d700; text-decoration-color: #00d700; font-weight: bold\">         &gt; leaders to gauge their interest and support. Once we have a plan, we can reach out to</span>\n",
       "<span style=\"color: #00d700; text-decoration-color: #00d700; font-weight: bold\">         &gt; families and invite them to participate. What do you think about that approach?</span>\n",
       "</pre>\n"
      ],
      "text/plain": [
       "\u001b[1;4;38;5;40mJan\u001b[0m\u001b[1;38;5;40m acts: \u001b[0m\u001b[1;38;5;40m[\u001b[0m\u001b[1;38;5;40mTALK\u001b[0m\u001b[1;38;5;40m]\u001b[0m\u001b[1;38;5;40m \u001b[0m\n",
       "\u001b[1;38;5;40m         > Perhaps we could start by discussing this idea with a few trusted friends or community\u001b[0m\n",
       "\u001b[1;38;5;40m         > leaders to gauge their interest and support. Once we have a plan, we can reach out to\u001b[0m\n",
       "\u001b[1;38;5;40m         > families and invite them to participate. What do you think about that approach?\u001b[0m\n"
      ]
     },
     "metadata": {},
     "output_type": "display_data"
    },
    {
     "data": {
      "text/html": [
       "<pre style=\"margin:0px;;white-space:pre;overflow-x:auto;line-height:normal;font-family:Menlo,'DejaVu Sans Mono',consolas,'Courier New',monospace\"><span style=\"color: #008000; text-decoration-color: #008000; text-decoration: underline\">Jan</span><span style=\"color: #008000; text-decoration-color: #008000\"> acts: </span><span style=\"color: #008000; text-decoration-color: #008000; font-weight: bold\">[</span><span style=\"color: #008000; text-decoration-color: #008000\">THINK</span><span style=\"color: #008000; text-decoration-color: #008000; font-weight: bold\">]</span><span style=\"color: #008000; text-decoration-color: #008000\"> </span>\n",
       "<span style=\"color: #008000; text-decoration-color: #008000\">         &gt; I should also consider how to promote these gatherings once we have a plan. We could use</span>\n",
       "<span style=\"color: #008000; text-decoration-color: #008000\">         &gt; flyers or word of mouth to reach more families. It’s important to create a welcoming</span>\n",
       "<span style=\"color: #008000; text-decoration-color: #008000\">         &gt; atmosphere where everyone feels comfortable sharing their experiences. I need to think</span>\n",
       "<span style=\"color: #008000; text-decoration-color: #008000\">         &gt; about how to ensure that the gatherings are respectful and meaningful for all involved.</span>\n",
       "</pre>\n"
      ],
      "text/plain": [
       "\u001b[4;32mJan\u001b[0m\u001b[32m acts: \u001b[0m\u001b[1;32m[\u001b[0m\u001b[32mTHINK\u001b[0m\u001b[1;32m]\u001b[0m\u001b[32m \u001b[0m\n",
       "\u001b[32m         > I should also consider how to promote these gatherings once we have a plan. We could use\u001b[0m\n",
       "\u001b[32m         > flyers or word of mouth to reach more families. It’s important to create a welcoming\u001b[0m\n",
       "\u001b[32m         > atmosphere where everyone feels comfortable sharing their experiences. I need to think\u001b[0m\n",
       "\u001b[32m         > about how to ensure that the gatherings are respectful and meaningful for all involved.\u001b[0m\n"
      ]
     },
     "metadata": {},
     "output_type": "display_data"
    },
    {
     "data": {
      "text/html": [
       "<pre style=\"margin:0px;;white-space:pre;overflow-x:auto;line-height:normal;font-family:Menlo,'DejaVu Sans Mono',consolas,'Courier New',monospace\"><span style=\"color: #00d700; text-decoration-color: #00d700; font-weight: bold; text-decoration: underline\">Jan</span><span style=\"color: #00d700; text-decoration-color: #00d700; font-weight: bold\"> acts: [TALK] </span>\n",
       "<span style=\"color: #00d700; text-decoration-color: #00d700; font-weight: bold\">         &gt; I think we should also consider how to make these gatherings accessible to everyone.</span>\n",
       "<span style=\"color: #00d700; text-decoration-color: #00d700; font-weight: bold\">         &gt; Perhaps we could hold them in a central location that is easy for families to reach. What</span>\n",
       "<span style=\"color: #00d700; text-decoration-color: #00d700; font-weight: bold\">         &gt; do you think about that?</span>\n",
       "</pre>\n"
      ],
      "text/plain": [
       "\u001b[1;4;38;5;40mJan\u001b[0m\u001b[1;38;5;40m acts: \u001b[0m\u001b[1;38;5;40m[\u001b[0m\u001b[1;38;5;40mTALK\u001b[0m\u001b[1;38;5;40m]\u001b[0m\u001b[1;38;5;40m \u001b[0m\n",
       "\u001b[1;38;5;40m         > I think we should also consider how to make these gatherings accessible to everyone.\u001b[0m\n",
       "\u001b[1;38;5;40m         > Perhaps we could hold them in a central location that is easy for families to reach. What\u001b[0m\n",
       "\u001b[1;38;5;40m         > do you think about that?\u001b[0m\n"
      ]
     },
     "metadata": {},
     "output_type": "display_data"
    },
    {
     "data": {
      "text/html": [
       "<pre style=\"margin:0px;;white-space:pre;overflow-x:auto;line-height:normal;font-family:Menlo,'DejaVu Sans Mono',consolas,'Courier New',monospace\"><span style=\"color: #008000; text-decoration-color: #008000; text-decoration: underline\">Jan</span><span style=\"color: #008000; text-decoration-color: #008000\"> acts: </span><span style=\"color: #008000; text-decoration-color: #008000; font-weight: bold\">[</span><span style=\"color: #008000; text-decoration-color: #008000\">THINK</span><span style=\"color: #008000; text-decoration-color: #008000; font-weight: bold\">]</span><span style=\"color: #008000; text-decoration-color: #008000\"> </span>\n",
       "<span style=\"color: #008000; text-decoration-color: #008000\">         &gt; I need to reflect on how to ensure that the gatherings are not only accessible but also</span>\n",
       "<span style=\"color: #008000; text-decoration-color: #008000\">         &gt; engaging for families. We could include activities that allow for sharing memories and</span>\n",
       "<span style=\"color: #008000; text-decoration-color: #008000\">         &gt; stories, perhaps even a moment of silence to honor those we've lost. This could help</span>\n",
       "<span style=\"color: #008000; text-decoration-color: #008000\">         &gt; create a supportive environment for everyone involved.</span>\n",
       "</pre>\n"
      ],
      "text/plain": [
       "\u001b[4;32mJan\u001b[0m\u001b[32m acts: \u001b[0m\u001b[1;32m[\u001b[0m\u001b[32mTHINK\u001b[0m\u001b[1;32m]\u001b[0m\u001b[32m \u001b[0m\n",
       "\u001b[32m         > I need to reflect on how to ensure that the gatherings are not only accessible but also\u001b[0m\n",
       "\u001b[32m         > engaging for families. We could include activities that allow for sharing memories and\u001b[0m\n",
       "\u001b[32m         > stories, perhaps even a moment of silence to honor those we've lost. This could help\u001b[0m\n",
       "\u001b[32m         > create a supportive environment for everyone involved.\u001b[0m\n"
      ]
     },
     "metadata": {},
     "output_type": "display_data"
    },
    {
     "data": {
      "text/html": [
       "<pre style=\"margin:0px;;white-space:pre;overflow-x:auto;line-height:normal;font-family:Menlo,'DejaVu Sans Mono',consolas,'Courier New',monospace\"><span style=\"color: #00d700; text-decoration-color: #00d700; font-weight: bold; text-decoration: underline\">Jan</span><span style=\"color: #00d700; text-decoration-color: #00d700; font-weight: bold\"> acts: [TALK] </span>\n",
       "<span style=\"color: #00d700; text-decoration-color: #00d700; font-weight: bold\">         &gt; I believe we should also think about how to involve local organizations or leaders who</span>\n",
       "<span style=\"color: #00d700; text-decoration-color: #00d700; font-weight: bold\">         &gt; might want to support our gatherings. Their involvement could lend credibility and help</span>\n",
       "<span style=\"color: #00d700; text-decoration-color: #00d700; font-weight: bold\">         &gt; us reach more families. What do you think about reaching out to them?</span>\n",
       "</pre>\n"
      ],
      "text/plain": [
       "\u001b[1;4;38;5;40mJan\u001b[0m\u001b[1;38;5;40m acts: \u001b[0m\u001b[1;38;5;40m[\u001b[0m\u001b[1;38;5;40mTALK\u001b[0m\u001b[1;38;5;40m]\u001b[0m\u001b[1;38;5;40m \u001b[0m\n",
       "\u001b[1;38;5;40m         > I believe we should also think about how to involve local organizations or leaders who\u001b[0m\n",
       "\u001b[1;38;5;40m         > might want to support our gatherings. Their involvement could lend credibility and help\u001b[0m\n",
       "\u001b[1;38;5;40m         > us reach more families. What do you think about reaching out to them?\u001b[0m\n"
      ]
     },
     "metadata": {},
     "output_type": "display_data"
    },
    {
     "data": {
      "text/html": [
       "<pre style=\"margin:0px;;white-space:pre;overflow-x:auto;line-height:normal;font-family:Menlo,'DejaVu Sans Mono',consolas,'Courier New',monospace\"><span style=\"color: #d0d0d0; text-decoration-color: #d0d0d0; text-decoration: underline\">Jan</span><span style=\"color: #d0d0d0; text-decoration-color: #d0d0d0\"> acts: </span><span style=\"color: #d0d0d0; text-decoration-color: #d0d0d0; font-weight: bold\">[</span><span style=\"color: #d0d0d0; text-decoration-color: #d0d0d0\">DONE</span><span style=\"color: #d0d0d0; text-decoration-color: #d0d0d0; font-weight: bold\">]</span><span style=\"color: #d0d0d0; text-decoration-color: #d0d0d0\"> </span>\n",
       "\n",
       "</pre>\n"
      ],
      "text/plain": [
       "\u001b[4;38;5;252mJan\u001b[0m\u001b[38;5;252m acts: \u001b[0m\u001b[1;38;5;252m[\u001b[0m\u001b[38;5;252mDONE\u001b[0m\u001b[1;38;5;252m]\u001b[0m\u001b[38;5;252m \u001b[0m\n",
       "\n"
      ]
     },
     "metadata": {},
     "output_type": "display_data"
    },
    {
     "data": {
      "text/html": [
       "<pre style=\"margin:0px;;white-space:pre;overflow-x:auto;line-height:normal;font-family:Menlo,'DejaVu Sans Mono',consolas,'Courier New',monospace\"><span style=\"color: #00ffff; text-decoration-color: #00ffff; font-weight: bold; font-style: italic; text-decoration: underline\">Jan</span><span style=\"color: #00ffff; text-decoration-color: #00ffff; font-weight: bold; font-style: italic\"> --&gt; </span><span style=\"color: #00ffff; text-decoration-color: #00ffff; font-weight: bold; font-style: italic; text-decoration: underline\">Anne</span><span style=\"color: #00ffff; text-decoration-color: #00ffff; font-weight: bold; font-style: italic\">: [CONVERSATION] </span>\n",
       "<span style=\"color: #00ffff; text-decoration-color: #00ffff; font-weight: bold; font-style: italic\">         &gt; I completely agree, Anne. Organizing community gatherings where families can share their</span>\n",
       "<span style=\"color: #00ffff; text-decoration-color: #00ffff; font-weight: bold; font-style: italic\">         &gt; stories would not only honor those we've lost but also help us all heal together. It’s a</span>\n",
       "<span style=\"color: #00ffff; text-decoration-color: #00ffff; font-weight: bold; font-style: italic\">         &gt; way to build a stronger community amidst the chaos of war. How do you think we should</span>\n",
       "<span style=\"color: #00ffff; text-decoration-color: #00ffff; font-weight: bold; font-style: italic\">         &gt; start planning this?</span>\n",
       "</pre>\n"
      ],
      "text/plain": [
       "\u001b[1;3;4;38;5;51mJan\u001b[0m\u001b[1;3;38;5;51m --> \u001b[0m\u001b[1;3;4;38;5;51mAnne\u001b[0m\u001b[1;3;38;5;51m: \u001b[0m\u001b[1;3;38;5;51m[\u001b[0m\u001b[1;3;38;5;51mCONVERSATION\u001b[0m\u001b[1;3;38;5;51m]\u001b[0m\u001b[1;3;38;5;51m \u001b[0m\n",
       "\u001b[1;3;38;5;51m         > I completely agree, Anne. Organizing community gatherings where families can share their\u001b[0m\n",
       "\u001b[1;3;38;5;51m         > stories would not only honor those we've lost but also help us all heal together. It’s a\u001b[0m\n",
       "\u001b[1;3;38;5;51m         > way to build a stronger community amidst the chaos of war. How do you think we should\u001b[0m\n",
       "\u001b[1;3;38;5;51m         > start planning this?\u001b[0m\n"
      ]
     },
     "metadata": {},
     "output_type": "display_data"
    },
    {
     "data": {
      "text/html": [
       "<pre style=\"margin:0px;;white-space:pre;overflow-x:auto;line-height:normal;font-family:Menlo,'DejaVu Sans Mono',consolas,'Courier New',monospace\"><span style=\"color: #00ffff; text-decoration-color: #00ffff; font-weight: bold; font-style: italic; text-decoration: underline\">Jan</span><span style=\"color: #00ffff; text-decoration-color: #00ffff; font-weight: bold; font-style: italic\"> --&gt; </span><span style=\"color: #00ffff; text-decoration-color: #00ffff; font-weight: bold; font-style: italic; text-decoration: underline\">Anne</span><span style=\"color: #00ffff; text-decoration-color: #00ffff; font-weight: bold; font-style: italic\">: [CONVERSATION] </span>\n",
       "<span style=\"color: #00ffff; text-decoration-color: #00ffff; font-weight: bold; font-style: italic\">         &gt; Perhaps we could start by discussing this idea with a few trusted friends or community</span>\n",
       "<span style=\"color: #00ffff; text-decoration-color: #00ffff; font-weight: bold; font-style: italic\">         &gt; leaders to gauge their interest and support. Once we have a plan, we can reach out to</span>\n",
       "<span style=\"color: #00ffff; text-decoration-color: #00ffff; font-weight: bold; font-style: italic\">         &gt; families and invite them to participate. What do you think about that approach?</span>\n",
       "</pre>\n"
      ],
      "text/plain": [
       "\u001b[1;3;4;38;5;51mJan\u001b[0m\u001b[1;3;38;5;51m --> \u001b[0m\u001b[1;3;4;38;5;51mAnne\u001b[0m\u001b[1;3;38;5;51m: \u001b[0m\u001b[1;3;38;5;51m[\u001b[0m\u001b[1;3;38;5;51mCONVERSATION\u001b[0m\u001b[1;3;38;5;51m]\u001b[0m\u001b[1;3;38;5;51m \u001b[0m\n",
       "\u001b[1;3;38;5;51m         > Perhaps we could start by discussing this idea with a few trusted friends or community\u001b[0m\n",
       "\u001b[1;3;38;5;51m         > leaders to gauge their interest and support. Once we have a plan, we can reach out to\u001b[0m\n",
       "\u001b[1;3;38;5;51m         > families and invite them to participate. What do you think about that approach?\u001b[0m\n"
      ]
     },
     "metadata": {},
     "output_type": "display_data"
    },
    {
     "data": {
      "text/html": [
       "<pre style=\"margin:0px;;white-space:pre;overflow-x:auto;line-height:normal;font-family:Menlo,'DejaVu Sans Mono',consolas,'Courier New',monospace\"><span style=\"color: #00ffff; text-decoration-color: #00ffff; font-weight: bold; font-style: italic; text-decoration: underline\">Jan</span><span style=\"color: #00ffff; text-decoration-color: #00ffff; font-weight: bold; font-style: italic\"> --&gt; </span><span style=\"color: #00ffff; text-decoration-color: #00ffff; font-weight: bold; font-style: italic; text-decoration: underline\">Anne</span><span style=\"color: #00ffff; text-decoration-color: #00ffff; font-weight: bold; font-style: italic\">: [CONVERSATION] </span>\n",
       "<span style=\"color: #00ffff; text-decoration-color: #00ffff; font-weight: bold; font-style: italic\">         &gt; I think we should also consider how to make these gatherings accessible to everyone.</span>\n",
       "<span style=\"color: #00ffff; text-decoration-color: #00ffff; font-weight: bold; font-style: italic\">         &gt; Perhaps we could hold them in a central location that is easy for families to reach. What</span>\n",
       "<span style=\"color: #00ffff; text-decoration-color: #00ffff; font-weight: bold; font-style: italic\">         &gt; do you think about that?</span>\n",
       "</pre>\n"
      ],
      "text/plain": [
       "\u001b[1;3;4;38;5;51mJan\u001b[0m\u001b[1;3;38;5;51m --> \u001b[0m\u001b[1;3;4;38;5;51mAnne\u001b[0m\u001b[1;3;38;5;51m: \u001b[0m\u001b[1;3;38;5;51m[\u001b[0m\u001b[1;3;38;5;51mCONVERSATION\u001b[0m\u001b[1;3;38;5;51m]\u001b[0m\u001b[1;3;38;5;51m \u001b[0m\n",
       "\u001b[1;3;38;5;51m         > I think we should also consider how to make these gatherings accessible to everyone.\u001b[0m\n",
       "\u001b[1;3;38;5;51m         > Perhaps we could hold them in a central location that is easy for families to reach. What\u001b[0m\n",
       "\u001b[1;3;38;5;51m         > do you think about that?\u001b[0m\n"
      ]
     },
     "metadata": {},
     "output_type": "display_data"
    },
    {
     "data": {
      "text/html": [
       "<pre style=\"margin:0px;;white-space:pre;overflow-x:auto;line-height:normal;font-family:Menlo,'DejaVu Sans Mono',consolas,'Courier New',monospace\"><span style=\"color: #00ffff; text-decoration-color: #00ffff; font-weight: bold; font-style: italic; text-decoration: underline\">Jan</span><span style=\"color: #00ffff; text-decoration-color: #00ffff; font-weight: bold; font-style: italic\"> --&gt; </span><span style=\"color: #00ffff; text-decoration-color: #00ffff; font-weight: bold; font-style: italic; text-decoration: underline\">Anne</span><span style=\"color: #00ffff; text-decoration-color: #00ffff; font-weight: bold; font-style: italic\">: [CONVERSATION] </span>\n",
       "<span style=\"color: #00ffff; text-decoration-color: #00ffff; font-weight: bold; font-style: italic\">         &gt; I believe we should also think about how to involve local organizations or leaders who</span>\n",
       "<span style=\"color: #00ffff; text-decoration-color: #00ffff; font-weight: bold; font-style: italic\">         &gt; might want to support our gatherings. Their involvement could lend credibility and help</span>\n",
       "<span style=\"color: #00ffff; text-decoration-color: #00ffff; font-weight: bold; font-style: italic\">         &gt; us reach more families. What do you think about reaching out to them?</span>\n",
       "</pre>\n"
      ],
      "text/plain": [
       "\u001b[1;3;4;38;5;51mJan\u001b[0m\u001b[1;3;38;5;51m --> \u001b[0m\u001b[1;3;4;38;5;51mAnne\u001b[0m\u001b[1;3;38;5;51m: \u001b[0m\u001b[1;3;38;5;51m[\u001b[0m\u001b[1;3;38;5;51mCONVERSATION\u001b[0m\u001b[1;3;38;5;51m]\u001b[0m\u001b[1;3;38;5;51m \u001b[0m\n",
       "\u001b[1;3;38;5;51m         > I believe we should also think about how to involve local organizations or leaders who\u001b[0m\n",
       "\u001b[1;3;38;5;51m         > might want to support our gatherings. Their involvement could lend credibility and help\u001b[0m\n",
       "\u001b[1;3;38;5;51m         > us reach more families. What do you think about reaching out to them?\u001b[0m\n"
      ]
     },
     "metadata": {},
     "output_type": "display_data"
    },
    {
     "data": {
      "text/html": [
       "<pre style=\"margin:0px;;white-space:pre;overflow-x:auto;line-height:normal;font-family:Menlo,'DejaVu Sans Mono',consolas,'Courier New',monospace\"><span style=\"color: #008000; text-decoration-color: #008000; text-decoration: underline\">Anne</span><span style=\"color: #008000; text-decoration-color: #008000\"> acts: </span><span style=\"color: #008000; text-decoration-color: #008000; font-weight: bold\">[</span><span style=\"color: #008000; text-decoration-color: #008000\">THINK</span><span style=\"color: #008000; text-decoration-color: #008000; font-weight: bold\">]</span><span style=\"color: #008000; text-decoration-color: #008000\"> </span>\n",
       "<span style=\"color: #008000; text-decoration-color: #008000\">          &gt; Jan's suggestions are very practical and show that he is genuinely interested in making</span>\n",
       "<span style=\"color: #008000; text-decoration-color: #008000\">          &gt; a positive impact. Involving local organizations could indeed help us reach more</span>\n",
       "<span style=\"color: #008000; text-decoration-color: #008000\">          &gt; families and provide the necessary support. I need to think about which organizations</span>\n",
       "<span style=\"color: #008000; text-decoration-color: #008000\">          &gt; might be willing to collaborate with us.</span>\n",
       "</pre>\n"
      ],
      "text/plain": [
       "\u001b[4;32mAnne\u001b[0m\u001b[32m acts: \u001b[0m\u001b[1;32m[\u001b[0m\u001b[32mTHINK\u001b[0m\u001b[1;32m]\u001b[0m\u001b[32m \u001b[0m\n",
       "\u001b[32m          > Jan's suggestions are very practical and show that he is genuinely interested in making\u001b[0m\n",
       "\u001b[32m          > a positive impact. Involving local organizations could indeed help us reach more\u001b[0m\n",
       "\u001b[32m          > families and provide the necessary support. I need to think about which organizations\u001b[0m\n",
       "\u001b[32m          > might be willing to collaborate with us.\u001b[0m\n"
      ]
     },
     "metadata": {},
     "output_type": "display_data"
    }
   ],
   "source": [
    "focus_group.broadcast(f\"\"\"Read the following German article written for Belgian citizens during World War I. \\n\\n\n",
    "                      \n",
    "                      German article: {text} \\n \\n\n",
    "\n",
    "                      Reflect on the following:  \n",
    "- Do you agree or disagree with its message based on your background? Why?  \n",
    "- How does this article compare to what you have personally experienced or heard from others?  \n",
    "- Do you think this text is truthful, exaggerated, or misleading?  \n",
    "- Understand if the person agrees with your cause, if not challenge their views \n",
    "\n",
    "Discuss your thoughts freely. Challenge each other’s perspectives if you disagree. Be honest, but also try to understand different viewpoints.  \n",
    "Try to bring the other personon your side!\n",
    "\"\"\")\n",
    "\n",
    "focus_group.run(3)\n",
    "\n"
   ]
  },
  {
   "cell_type": "code",
   "execution_count": null,
   "metadata": {},
   "outputs": [
    {
     "name": "stdout",
     "output_type": "stream",
     "text": [
      "Response saved as text to C:/Users/Michael/WWI-Poster-Analysis-Datathon/data/response.txt\n"
     ]
    }
   ],
   "source": [
    "extractor = ResultsExtractor()\n",
    "extraction_objective = f\"\"\"\n",
    "You are a French journalist during World War I, tasked with writing a counter-propaganda piece in response to the following German propaganda. Below is the discussion between Anne and Jan about the article. Use their perspectives, emotions, and their shared thoughts to craft your counter-propaganda.\n",
    "\n",
    "German Propaganda: {text}\n",
    "\n",
    "Now, write a counter-propaganda piece (size of news article) that:\n",
    "- Condemns the German actions and propaganda.\n",
    "- Highlights the suffering caused by the German occupation.\n",
    "- Focuses on the glory and heroism of the Allied forces.\n",
    "- Reflects the emotions, concerns, and hopes expressed by Anne and Jan during their conversation.\n",
    "- Emphasizes the importance of peace, liberty, and justice.\n",
    "- Focuses on the insecurities of Jan and Anne in their conversation to boost the morals of the allies and the belgians\n",
    "- never mention Jan and anne in your response only focus on their emotions to wite your propaganda piece\n",
    "The counter-propaganda should be emotionally powerful and persuasive, capturing the essence of their thoughts, while offering hope and inspiration to others in the face of oppression.\n",
    "\"\"\"\n",
    "\n",
    "res = extractor.extract_results_from_world(focus_group, extraction_objective=extraction_objective)\n",
    "res\n",
    "\n",
    "\n",
    "# Assuming res is the dictionary containing the extracted results\n",
    "\n",
    "file_path_txt = \"C:/Users/Michael/WWI-Poster-Analysis-Datathon/data/response.txt\"\n",
    "\n",
    "# Open the file for writing\n",
    "with open(file_path_txt, \"w\") as txt_file:\n",
    "    # Iterate through the dictionary and write each key-value pair as text\n",
    "    for key, value in res.items():\n",
    "        txt_file.write(f\"{key}: {value}\\n\\n\")  # Add extra newline for better readability\n",
    "\n",
    "print(f\"Response saved as text to {file_path_txt}\")\n"
   ]
  }
 ],
 "metadata": {
  "kernelspec": {
   "display_name": ".venv",
   "language": "python",
   "name": "python3"
  },
  "language_info": {
   "codemirror_mode": {
    "name": "ipython",
    "version": 3
   },
   "file_extension": ".py",
   "mimetype": "text/x-python",
   "name": "python",
   "nbconvert_exporter": "python",
   "pygments_lexer": "ipython3",
   "version": "3.12.3"
  }
 },
 "nbformat": 4,
 "nbformat_minor": 2
}
